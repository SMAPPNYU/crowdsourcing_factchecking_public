{
 "cells": [
  {
   "cell_type": "markdown",
   "metadata": {},
   "source": [
    "## R & R"
   ]
  },
  {
   "cell_type": "code",
   "execution_count": 121,
   "metadata": {},
   "outputs": [
    {
     "name": "stdout",
     "output_type": "stream",
     "text": [
      "The autoreload extension is already loaded. To reload it, use:\n",
      "  %reload_ext autoreload\n"
     ]
    }
   ],
   "source": [
    "%load_ext autoreload\n",
    "%autoreload 2\n",
    "\n",
    "import numpy as np\n",
    "import pandas as pd\n",
    "import os\n",
    "import matplotlib.pyplot as plt\n",
    "from collections import Counter\n",
    "laptop = True\n",
    "import pickle\n",
    "\n",
    "import logging\n",
    "logging.basicConfig(filename='ML.log',level=logging.DEBUG)\n",
    "from sklearn.pipeline import Pipeline\n",
    "from sklearn.preprocessing import StandardScaler\n",
    "from sklearn.preprocessing import OneHotEncoder\n",
    "from sklearn.preprocessing import LabelEncoder\n",
    "from sklearn.compose import ColumnTransformer\n",
    "from sklearn.model_selection import PredefinedSplit\n",
    "from sklearn.model_selection import GridSearchCV\n",
    "\n",
    "from sklearn.linear_model import ElasticNet, LogisticRegression\n",
    "from sklearn.ensemble import RandomForestClassifier, GradientBoostingClassifier\n",
    "\n",
    "from ml_functions import feature_creation, conf_eval, data_prep, test_model\n",
    "\n",
    "from functions import count_mode, bayes_probs, bayes_binary\n",
    "\n",
    "from sklearn.model_selection import train_test_split\n",
    "\n",
    "import torch\n",
    "import torch.nn as nn\n",
    "import torch.nn.functional as F\n",
    "\n",
    "#crowd_size, feature_transform\n",
    "from path import *"
   ]
  },
  {
   "cell_type": "markdown",
   "metadata": {},
   "source": [
    "## Importing Data"
   ]
  },
  {
   "cell_type": "code",
   "execution_count": 122,
   "metadata": {},
   "outputs": [],
   "source": [
    "test_data = pd.read_csv(prepared_data + \"test_data_large.csv\")\n",
    "test_data_covid = pd.read_csv(prepared_data + \"test_data_large_covid.csv\")\n",
    "test_data_noncovid = pd.read_csv(prepared_data + \"test_data_large_noncovid.csv\")\n",
    "\n",
    "test_data_large = test_data.append(test_data_covid)\n",
    "test_data_large = test_data_large.append(test_data_noncovid)\n",
    "\n",
    "test_data_large.reset_index(inplace = True, drop = True)\n",
    "test_target_large = test_data_large['mode'] == 'FM'\n",
    "\n",
    "\n",
    "X_test = feature_creation(test_data_large)\n"
   ]
  },
  {
   "cell_type": "code",
   "execution_count": 123,
   "metadata": {},
   "outputs": [
    {
     "data": {
      "text/plain": [
       "0.5387857142857143"
      ]
     },
     "execution_count": 123,
     "metadata": {},
     "output_type": "execute_result"
    }
   ],
   "source": [
    "1 - test_target_large.sum()/test_target_large.shape[0]"
   ]
  },
  {
   "cell_type": "code",
   "execution_count": 124,
   "metadata": {},
   "outputs": [],
   "source": [
    "train_data = pd.read_csv(prepared_data + \"train_data_large.csv\")\n",
    "val_data = pd.read_csv(prepared_data + \"val_data_large.csv\")\n",
    "\n",
    "train_data_covid = pd.read_csv(prepared_data + \"train_data_large_covid.csv\")\n",
    "val_data_covid = pd.read_csv(prepared_data + \"val_data_large_covid.csv\")\n",
    "\n",
    "\n",
    "train_data_noncovid = pd.read_csv(prepared_data + \"train_data_large_noncovid.csv\")\n",
    "val_data_noncovid = pd.read_csv(prepared_data + \"val_data_large_noncovid.csv\")\n",
    "\n",
    "\n",
    "\n",
    "train_data_large = train_data.append(train_data_covid)\n",
    "train_data_large = train_data_large.append(train_data_noncovid)\n",
    "\n",
    "train_data_large.reset_index(inplace = True, drop = True)\n",
    "\n",
    "val_data_large = val_data.append(val_data_covid)\n",
    "val_data_large = val_data_large.append(val_data_noncovid)\n",
    "\n",
    "val_data_large.reset_index(inplace = True, drop = True)\n",
    "\n",
    "\n",
    "train_target_large = train_data_large['mode'] == 'FM'\n",
    "val_target_large = val_data_large['mode'] == 'FM'\n",
    "\n",
    "X_train = feature_creation(train_data_large)\n",
    "X_val = feature_creation(val_data_large)\n"
   ]
  },
  {
   "cell_type": "code",
   "execution_count": 137,
   "metadata": {},
   "outputs": [
    {
     "data": {
      "text/plain": [
       "0.5795407407407407"
      ]
     },
     "execution_count": 137,
     "metadata": {},
     "output_type": "execute_result"
    }
   ],
   "source": [
    "1 - (test_target_large.sum()+train_target_large.sum() + val_target_large.sum()) /(test_target_large.shape[0]+train_target_large.shape[0] + val_target_large.shape[0])                                                                                                                          "
   ]
  },
  {
   "cell_type": "code",
   "execution_count": 138,
   "metadata": {},
   "outputs": [
    {
     "data": {
      "text/plain": [
       "0.5387857142857143"
      ]
     },
     "execution_count": 138,
     "metadata": {},
     "output_type": "execute_result"
    }
   ],
   "source": [
    "1 - (test_target_large.sum()) /(test_target_large.shape[0])\n"
   ]
  },
  {
   "cell_type": "markdown",
   "metadata": {},
   "source": [
    "### Test Sets"
   ]
  },
  {
   "cell_type": "code",
   "execution_count": 127,
   "metadata": {},
   "outputs": [],
   "source": [
    "test_set = pickle.load(open(data_pickles + 'test_set.p', \"rb\" ))\n",
    "test_set_covid = pickle.load(open(data_pickles + 'test_set_covid.p', \"rb\" ))\n",
    "test_set_noncovid = pickle.load(open(data_pickles + 'test_set_noncovid.p', \"rb\" ))\n",
    "\n",
    "test_set_all = test_set + test_set_covid + test_set_noncovid\n",
    "test_set_non_covid_all = test_set + test_set_noncovid\n",
    "test_set_two = test_set_covid + test_set_noncovid"
   ]
  },
  {
   "cell_type": "code",
   "execution_count": 128,
   "metadata": {},
   "outputs": [
    {
     "data": {
      "text/plain": [
       "28"
      ]
     },
     "execution_count": 128,
     "metadata": {},
     "output_type": "execute_result"
    }
   ],
   "source": [
    "len(test_set_all)"
   ]
  },
  {
   "cell_type": "code",
   "execution_count": 130,
   "metadata": {},
   "outputs": [
    {
     "data": {
      "text/plain": [
       "28"
      ]
     },
     "execution_count": 130,
     "metadata": {},
     "output_type": "execute_result"
    }
   ],
   "source": [
    "len(list(test_data_large.article_num.unique()))"
   ]
  },
  {
   "cell_type": "code",
   "execution_count": 91,
   "metadata": {},
   "outputs": [
    {
     "data": {
      "text/plain": [
       "19"
      ]
     },
     "execution_count": 91,
     "metadata": {},
     "output_type": "execute_result"
    }
   ],
   "source": [
    "len(test_set)"
   ]
  },
  {
   "cell_type": "code",
   "execution_count": 19,
   "metadata": {},
   "outputs": [
    {
     "data": {
      "text/plain": [
       "5"
      ]
     },
     "execution_count": 19,
     "metadata": {},
     "output_type": "execute_result"
    }
   ],
   "source": [
    "len(test_set_covid)"
   ]
  },
  {
   "cell_type": "code",
   "execution_count": 81,
   "metadata": {},
   "outputs": [
    {
     "data": {
      "text/plain": [
       "4"
      ]
     },
     "execution_count": 81,
     "metadata": {},
     "output_type": "execute_result"
    }
   ],
   "source": [
    "len(test_set_noncovid)"
   ]
  },
  {
   "cell_type": "code",
   "execution_count": 18,
   "metadata": {},
   "outputs": [],
   "source": [
    "source_dic = {}\n",
    "\n",
    "for an_art in test_set:\n",
    "    \n",
    "    source_dic[an_art] = 0 \n",
    "    \n",
    "for an_art in test_set_covid:\n",
    "    \n",
    "    source_dic[an_art] = 1 \n",
    "    \n",
    "for an_art in test_set_noncovid:\n",
    "    \n",
    "    source_dic[an_art] = 2 "
   ]
  },
  {
   "cell_type": "code",
   "execution_count": 43,
   "metadata": {},
   "outputs": [],
   "source": [
    "article_dic_covid = pickle.load(open(data_pickles + 'article_dic_covid.p', \"rb\" ))\n",
    "article_dic_noncovid = pickle.load(open(data_pickles + 'article_dic_noncovid.p', \"rb\" ))\n",
    "article_dic = pickle.load(open(data_pickles + 'article_dic.p', \"rb\" ))\n",
    "\n",
    "all_dic = {}\n",
    "all_dic.update(article_dic)\n",
    "all_dic.update(article_dic_covid)\n",
    "all_dic.update(article_dic_noncovid)"
   ]
  },
  {
   "cell_type": "code",
   "execution_count": 69,
   "metadata": {},
   "outputs": [
    {
     "data": {
      "text/plain": [
       "('FM', 4.0, 'nov 18', 2)"
      ]
     },
     "execution_count": 69,
     "metadata": {},
     "output_type": "execute_result"
    }
   ],
   "source": [
    "all_dic[12]"
   ]
  },
  {
   "cell_type": "code",
   "execution_count": 42,
   "metadata": {},
   "outputs": [
    {
     "name": "stdout",
     "output_type": "stream",
     "text": [
      "('FM', 4.2, 'Jun 15', 3)\n",
      "('FM', 2.0, 'Jun 1', 3)\n",
      "('T', 5.6, 'Jun 15', 2)\n",
      "('T', 6.5, 'May 28', 4)\n",
      "('T', 4.5, 'Jun 3', 4)\n"
     ]
    }
   ],
   "source": [
    "for an_art in test_set_covid:\n",
    "    \n",
    "    print(article_dic_covid[an_art])"
   ]
  },
  {
   "cell_type": "markdown",
   "metadata": {},
   "source": [
    "## Missing articles"
   ]
  },
  {
   "cell_type": "code",
   "execution_count": 126,
   "metadata": {},
   "outputs": [
    {
     "data": {
      "text/plain": [
       "135"
      ]
     },
     "execution_count": 126,
     "metadata": {},
     "output_type": "execute_result"
    }
   ],
   "source": [
    "all_arts_set = list(test_data_large.article_num.unique()) + list(train_data_large.article_num.unique()) + list(val_data_large.article_num.unique())\n",
    "len(all_arts_set)"
   ]
  },
  {
   "cell_type": "code",
   "execution_count": 44,
   "metadata": {},
   "outputs": [],
   "source": [
    "org_test = pickle.load(open(data_pickles + \"test_set.p\", \"rb\"))\n",
    "org_val = pickle.load(open(data_pickles + \"val_set.p\", \"rb\"))\n",
    "org_train = pickle.load(open(data_pickles + \"train_set.p\", \"rb\"))\n",
    "org_test_non = pickle.load(open(data_pickles + \"test_set_noncovid.p\", \"rb\"))\n",
    "org_val_non = pickle.load(open(data_pickles + \"val_set_noncovid.p\", \"rb\"))\n",
    "org_train_non = pickle.load(open(data_pickles + \"train_set_noncovid.p\", \"rb\"))\n",
    "org_test_cov = pickle.load(open(data_pickles + \"test_set_covid.p\", \"rb\"))\n",
    "org_val_cov = pickle.load(open(data_pickles + \"val_set_covid.p\", \"rb\"))\n",
    "org_train_cov = pickle.load(open(data_pickles + \"train_set_covid.p\", \"rb\"))\n",
    "\n",
    "all_sets_list_full = [org_test, org_val, org_train, org_test_non, org_val_non, org_train_non, org_test_cov, org_val_cov, org_train_cov]\n",
    "all_sets_list =  [item for sublist in all_sets_list_full for item in sublist]"
   ]
  },
  {
   "cell_type": "code",
   "execution_count": 67,
   "metadata": {},
   "outputs": [],
   "source": [
    "### Check to see if everything in actual data matches what should be in there according to sets\n",
    "\n",
    "for an_art in all_arts_set:\n",
    "    \n",
    "    if an_art not in all_sets_list:\n",
    "        \n",
    "        print(and_art, \"mistake\")"
   ]
  },
  {
   "cell_type": "code",
   "execution_count": 68,
   "metadata": {},
   "outputs": [],
   "source": [
    "### checking to see that all articles are of correct type"
   ]
  },
  {
   "cell_type": "code",
   "execution_count": 73,
   "metadata": {},
   "outputs": [],
   "source": [
    "### checking to see that all articles are of correct type\n",
    "for an_art in all_arts_set:\n",
    "    \n",
    "    if all_dic[an_art][3] > 3:\n",
    "        \n",
    "        print(an_art, all_dic[an_art], \"mistake\")"
   ]
  },
  {
   "cell_type": "code",
   "execution_count": 77,
   "metadata": {},
   "outputs": [],
   "source": [
    "### Checking fact checker standard \n",
    "article_all_covid = pickle.load(open(data_pickles + 'article_all_covid.p', \"rb\" ))\n",
    "article_all_noncovid = pickle.load(open(data_pickles + 'article_all_noncovid.p', \"rb\" ))\n",
    "article_all = pickle.load(open(data_pickles + 'article_all.p', \"rb\" ))\n",
    "\n",
    "all_fact_articles = []\n",
    "#all low credibility\n",
    "votes_list_lowcred = [x for x, y in article_all.items() if 0 < x % 5 < 4 and x > 10]\n",
    "votes_list_lowcred_covid = [x for x, y in article_all_covid.items() if 0 < x % 5 < 4]\n",
    "votes_list_lowcred_noncovid = [x for x, y in article_all_noncovid.items() if 0 < x % 5 < 4]\n",
    "\n",
    "all_fact_articles.extend(votes_list_lowcred)\n",
    "all_fact_articles.extend(votes_list_lowcred_covid)\n",
    "all_fact_articles.extend(votes_list_lowcred_noncovid)\n"
   ]
  },
  {
   "cell_type": "code",
   "execution_count": 79,
   "metadata": {},
   "outputs": [],
   "source": [
    "### Check to see if everything in fact checker standards matches what should be in there according to sets\n",
    "\n",
    "for an_art in all_fact_articles:\n",
    "    \n",
    "    if an_art not in all_sets_list:\n",
    "        \n",
    "        print(and_art, \"mistake\")"
   ]
  },
  {
   "cell_type": "code",
   "execution_count": null,
   "metadata": {},
   "outputs": [],
   "source": []
  },
  {
   "cell_type": "code",
   "execution_count": 98,
   "metadata": {},
   "outputs": [
    {
     "name": "stdout",
     "output_type": "stream",
     "text": [
      "135\n"
     ]
    }
   ],
   "source": [
    "full_size = 0\n",
    "combine_list = []\n",
    "for a_set in all_sets_list:\n",
    "    \n",
    "    full_size += len(a_set)\n",
    "    combine_list = combine_list + a_set\n",
    "    \n",
    "print(full_size)"
   ]
  },
  {
   "cell_type": "code",
   "execution_count": 100,
   "metadata": {},
   "outputs": [
    {
     "name": "stdout",
     "output_type": "stream",
     "text": [
      "201\n",
      "228\n",
      "208\n"
     ]
    }
   ],
   "source": [
    "for a_set in combine_list:\n",
    "    \n",
    "    if a_set not in all_arts_set:\n",
    "        \n",
    "        print(a_set)"
   ]
  },
  {
   "cell_type": "code",
   "execution_count": 101,
   "metadata": {},
   "outputs": [
    {
     "data": {
      "text/plain": [
       "('FM', 2.67, 'May 28', 2)"
      ]
     },
     "execution_count": 101,
     "metadata": {},
     "output_type": "execute_result"
    }
   ],
   "source": [
    "article_dic_covid[201]"
   ]
  },
  {
   "cell_type": "code",
   "execution_count": 102,
   "metadata": {},
   "outputs": [
    {
     "data": {
      "text/plain": [
       "('T', 6.0, 'Jun 1', 4)"
      ]
     },
     "execution_count": 102,
     "metadata": {},
     "output_type": "execute_result"
    }
   ],
   "source": [
    "article_dic_covid[208]"
   ]
  },
  {
   "cell_type": "code",
   "execution_count": 103,
   "metadata": {},
   "outputs": [
    {
     "data": {
      "text/plain": [
       "('T', 5.6, 'Jun 15', 4)"
      ]
     },
     "execution_count": 103,
     "metadata": {},
     "output_type": "execute_result"
    }
   ],
   "source": [
    "article_dic_covid[228]"
   ]
  },
  {
   "cell_type": "code",
   "execution_count": 106,
   "metadata": {},
   "outputs": [
    {
     "data": {
      "text/plain": [
       "True"
      ]
     },
     "execution_count": 106,
     "metadata": {},
     "output_type": "execute_result"
    }
   ],
   "source": [
    "201 in org_val_cov"
   ]
  },
  {
   "cell_type": "code",
   "execution_count": 107,
   "metadata": {},
   "outputs": [
    {
     "data": {
      "text/plain": [
       "True"
      ]
     },
     "execution_count": 107,
     "metadata": {},
     "output_type": "execute_result"
    }
   ],
   "source": [
    "208 in org_val_cov"
   ]
  },
  {
   "cell_type": "code",
   "execution_count": 109,
   "metadata": {},
   "outputs": [
    {
     "data": {
      "text/plain": [
       "True"
      ]
     },
     "execution_count": 109,
     "metadata": {},
     "output_type": "execute_result"
    }
   ],
   "source": [
    "228 in org_val_cov"
   ]
  },
  {
   "cell_type": "code",
   "execution_count": 113,
   "metadata": {},
   "outputs": [
    {
     "data": {
      "text/plain": [
       "[201, 228, 208]"
      ]
     },
     "execution_count": 113,
     "metadata": {},
     "output_type": "execute_result"
    }
   ],
   "source": [
    "org_val_cov"
   ]
  },
  {
   "cell_type": "code",
   "execution_count": 112,
   "metadata": {},
   "outputs": [
    {
     "data": {
      "text/plain": [
       "array([201, 228, 208])"
      ]
     },
     "execution_count": 112,
     "metadata": {},
     "output_type": "execute_result"
    }
   ],
   "source": [
    "val_data_covid.article_num.unique()"
   ]
  },
  {
   "cell_type": "markdown",
   "metadata": {},
   "source": [
    "## Info on overall ratings"
   ]
  },
  {
   "cell_type": "code",
   "execution_count": 131,
   "metadata": {},
   "outputs": [],
   "source": [
    "all_arts_set = list(test_data_large.article_num.unique()) + list(train_data_large.article_num.unique()) + list(val_data_large.article_num.unique())"
   ]
  },
  {
   "cell_type": "code",
   "execution_count": 132,
   "metadata": {},
   "outputs": [],
   "source": [
    "type_list = []\n",
    "\n",
    "for a_key in all_dic.keys():\n",
    "    \n",
    "    if a_key in all_arts_set:\n",
    "        \n",
    "        type_list.append(all_dic[a_key][0])"
   ]
  },
  {
   "cell_type": "code",
   "execution_count": 133,
   "metadata": {},
   "outputs": [
    {
     "data": {
      "text/plain": [
       "Counter({'FM': 57, 'T': 58, 'No Mode!': 16, 'CND': 4})"
      ]
     },
     "execution_count": 133,
     "metadata": {},
     "output_type": "execute_result"
    }
   ],
   "source": [
    "rate_dist = Counter(type_list)\n",
    "rate_dist"
   ]
  },
  {
   "cell_type": "code",
   "execution_count": 85,
   "metadata": {},
   "outputs": [
    {
     "data": {
      "text/plain": [
       "19"
      ]
     },
     "execution_count": 85,
     "metadata": {},
     "output_type": "execute_result"
    }
   ],
   "source": [
    "len(test_set)"
   ]
  },
  {
   "cell_type": "code",
   "execution_count": 135,
   "metadata": {},
   "outputs": [],
   "source": [
    "fm_counter = 0\n",
    "\n",
    "for an_art in all_arts_set:\n",
    "\n",
    "    info = all_dic[an_art]\n",
    "    \n",
    "    if info[0] == \"FM\":\n",
    "        \n",
    "        fm_counter += 1\n",
    "        \n",
    "        \n"
   ]
  },
  {
   "cell_type": "code",
   "execution_count": 136,
   "metadata": {},
   "outputs": [
    {
     "data": {
      "text/plain": [
       "57"
      ]
     },
     "execution_count": 136,
     "metadata": {},
     "output_type": "execute_result"
    }
   ],
   "source": [
    "fm_counter"
   ]
  },
  {
   "cell_type": "markdown",
   "metadata": {},
   "source": [
    "### NN with 25"
   ]
  },
  {
   "cell_type": "code",
   "execution_count": 99,
   "metadata": {},
   "outputs": [],
   "source": [
    "X_test_large = feature_creation(test_data_large, crowd_num = 25)\n",
    "X_train_large = feature_creation(train_data_large, crowd_num = 25)"
   ]
  },
  {
   "cell_type": "code",
   "execution_count": 100,
   "metadata": {},
   "outputs": [],
   "source": [
    "numeric_features_large = []\n",
    "\n",
    "resp_var = [x for x in X_test_large.columns if 'resp_veracity_' in x]\n",
    "new_cols = [x for x in X_test_large.columns if 'new' in x]\n",
    "\n",
    "#numeric_features.extend(resp_var)\n",
    "numeric_features_large.extend(resp_var) #rempve this if it doesn't work\n",
    "numeric_features_large.extend(new_cols)\n",
    "numeric_features_large.extend([\"crowd_means\",'crowd_median','crowd_full_range', 'crowd_IQR_range', \\\n",
    "                         'crowd_variance', 'crowd_bayes'])"
   ]
  },
  {
   "cell_type": "code",
   "execution_count": 101,
   "metadata": {},
   "outputs": [],
   "source": [
    "#nn = pickle.load(open(local_pickles + 'model.p', \"rb\" ))\n",
    "\n",
    "\n",
    "\n",
    "class Net(nn.Module):\n",
    "\n",
    "    def __init__(self, emb_dim):\n",
    "        super(Net, self).__init__()\n",
    "        self.fc1 = nn.Linear(emb_dim, 500) \n",
    "        self.fc2 = nn.Linear(500, 100)\n",
    "        self.fc3 = nn.Linear(100, 25)\n",
    "        self.fc4 = nn.Linear(25, 25)\n",
    "        self.fc5 = nn.Linear(25, 10)\n",
    "        self.fc6 = nn.Linear(10, 1)\n",
    "        self.softmax = nn.Softmax(dim=1)\n",
    "\n",
    "    def forward(self, x):\n",
    "        x = F.relu(self.fc1(x))\n",
    "        x = F.relu(self.fc2(x))\n",
    "        x = F.relu(self.fc3(x))\n",
    "        x = F.relu(self.fc4(x))\n",
    "        x = F.relu(self.fc5(x))\n",
    "        x = self.fc6(x)\n",
    "        \n",
    "        return x\n",
    "    \n",
    "    \n",
    "class Net_dropout(nn.Module):\n",
    "\n",
    "    def __init__(self, emb_dim):\n",
    "        super(Net_dropout, self).__init__()\n",
    "        self.fc1 = nn.Linear(emb_dim, 500) \n",
    "        self.fc2 = nn.Linear(500, 100)\n",
    "        self.fc3 = nn.Linear(100, 25)\n",
    "        self.fc4 = nn.Linear(25, 25)\n",
    "        self.fc5 = nn.Linear(25, 10)\n",
    "        self.fc6 = nn.Linear(10, 1)\n",
    "        self.softmax = nn.Softmax(dim=1)\n",
    "        self.dropout = nn.Dropout(0.25)\n",
    "\n",
    "    def forward(self, x):\n",
    "        x = F.relu(self.fc1(x))\n",
    "        x = self.dropout(x)\n",
    "        x = F.relu(self.fc2(x))\n",
    "        x = self.dropout(x)     \n",
    "        x = F.relu(self.fc3(x))    \n",
    "        x = self.dropout(x)   \n",
    "        x = F.relu(self.fc4(x))\n",
    "        x = F.relu(self.fc5(x))\n",
    "        x = self.fc6(x)\n",
    "        \n",
    "        return x\n",
    "    \n",
    "\n"
   ]
  },
  {
   "cell_type": "code",
   "execution_count": 102,
   "metadata": {},
   "outputs": [],
   "source": [
    "\n",
    "emb_dim = 121   \n",
    "net_large = Net(emb_dim)\n",
    "net_large.load_state_dict(torch.load(models + \"model_large.pt\"))\n",
    "net_large.eval()\n",
    "\n",
    "nn_list_large = [\"nn_25\"]\n",
    "\n",
    "# Preparing the data\n",
    "y_data_bin_large = np.where(test_target_large == True, 1, 0)\n",
    "\n",
    "\n",
    "test = StandardScaler()\n",
    "test.fit(X_train_large[numeric_features_large])\n",
    "\n",
    "#training data\n",
    "X_train_stand_large = X_test_large.copy()\n",
    "X_train_stand_large[numeric_features_large] = test.transform(X_test_large[numeric_features_large])\n",
    "\n",
    "train_dat_nn_large = data_prep(X_train_stand_large,test_target_large)\n",
    "\n",
    "nn_preds  = torch.sigmoid(net_large(torch.tensor(train_dat_nn_large[:][0]).float()))\n",
    "nn_preds = np.where(nn_preds > .5, 1,0).reshape(-1,)\n",
    "\n",
    "all_results = list(conf_eval(nn_preds, test_target_large))\n",
    "\n",
    "nn_list_large.extend(all_results)\n",
    "\n",
    "#performance_dic['nn_25'] = nn_list_large\n",
    "\n"
   ]
  },
  {
   "cell_type": "code",
   "execution_count": 103,
   "metadata": {},
   "outputs": [
    {
     "data": {
      "text/plain": [
       "[0.6844,\n",
       " 0.5727762803234502,\n",
       " 0.4272237196765499,\n",
       " 0.8474409448818898,\n",
       " 0.15255905511811024]"
      ]
     },
     "execution_count": 103,
     "metadata": {},
     "output_type": "execute_result"
    }
   ],
   "source": [
    "#performance on covid set\n",
    "list(conf_eval(nn_preds[test_data_large.article_num.isin(test_set_covid)], test_target_large[test_data_large.article_num.isin(test_set_covid)]))"
   ]
  },
  {
   "cell_type": "code",
   "execution_count": 104,
   "metadata": {},
   "outputs": [
    {
     "data": {
      "text/plain": [
       "[0.680695652173913,\n",
       " 0.4651116026543334,\n",
       " 0.5348883973456666,\n",
       " 0.8449517389305959,\n",
       " 0.155048261069404]"
      ]
     },
     "execution_count": 104,
     "metadata": {},
     "output_type": "execute_result"
    }
   ],
   "source": [
    "#performance on noncovid set\n",
    "list(conf_eval(nn_preds[test_data_large.article_num.isin(test_set_non_covid_all)], test_target_large[test_data_large.article_num.isin(test_set_non_covid_all)]))"
   ]
  },
  {
   "cell_type": "code",
   "execution_count": 105,
   "metadata": {},
   "outputs": [
    {
     "data": {
      "text/plain": [
       "[0.6942105263157895,\n",
       " 0.5161127895266868,\n",
       " 0.4838872104733132,\n",
       " 0.822178002894356,\n",
       " 0.177821997105644]"
      ]
     },
     "execution_count": 105,
     "metadata": {},
     "output_type": "execute_result"
    }
   ],
   "source": [
    "#performance on period one\n",
    "list(conf_eval(nn_preds[test_data_large.article_num.isin(test_set)], test_target_large[test_data_large.article_num.isin(test_set)]))"
   ]
  },
  {
   "cell_type": "code",
   "execution_count": 106,
   "metadata": {},
   "outputs": [
    {
     "data": {
      "text/plain": [
       "[0.6542222222222223,\n",
       " 0.447887323943662,\n",
       " 0.5521126760563381,\n",
       " 0.9086848635235732,\n",
       " 0.0913151364764268]"
      ]
     },
     "execution_count": 106,
     "metadata": {},
     "output_type": "execute_result"
    }
   ],
   "source": [
    "#performance on perido two\n",
    "list(conf_eval(nn_preds[test_data_large.article_num.isin(test_set_two)], test_target_large[test_data_large.article_num.isin(test_set_two)]))"
   ]
  },
  {
   "cell_type": "markdown",
   "metadata": {},
   "source": [
    "## NN with high PK "
   ]
  },
  {
   "cell_type": "code",
   "execution_count": 107,
   "metadata": {},
   "outputs": [],
   "source": [
    "numeric_features = []\n",
    "\n",
    "resp_var = [x for x in X_train.columns if 'resp_veracity_' in x]\n",
    "new_cols = [x for x in X_train.columns if 'new' in x]\n",
    "\n",
    "#numeric_features.extend(resp_var)\n",
    "numeric_features.extend(resp_var) #rempve this if it doesn't work\n",
    "numeric_features.extend(new_cols)\n",
    "numeric_features.extend([\"crowd_means\",'crowd_median','crowd_full_range', 'crowd_IQR_range', \\\n",
    "                         'crowd_variance', 'crowd_bayes'])\n"
   ]
  },
  {
   "cell_type": "code",
   "execution_count": 108,
   "metadata": {},
   "outputs": [],
   "source": [
    "pol_knowledge_df_test = pickle.load(open(data_pickles + 'pol_knowledge_df_test.p', \"rb\" ))\n",
    "X_data_pol_test = feature_creation(pol_knowledge_df_test)"
   ]
  },
  {
   "cell_type": "code",
   "execution_count": 109,
   "metadata": {},
   "outputs": [],
   "source": [
    "pol_knowledge_df_train_orig = pickle.load(open(data_pickles + 'pol_knowledge_df_train_orig.p', \"rb\" ))\n",
    "# Preparing the data\n",
    "X_data_pol_train = feature_creation(pol_knowledge_df_train_orig)"
   ]
  },
  {
   "cell_type": "code",
   "execution_count": 110,
   "metadata": {},
   "outputs": [],
   "source": [
    "\n",
    "emb_dim = 61 \n",
    "net_large = Net(emb_dim)\n",
    "net_large.load_state_dict(torch.load(models + \"model_nn_highpol.pt\"))\n",
    "net_large.eval()\n",
    "\n",
    "nn_list_large = [\"nn_10_highpol\"]\n",
    "\n",
    "# Preparing the data\n",
    "y_data_bin_large = np.where(test_target_large == True, 1, 0)\n",
    "\n",
    "\n",
    "test = StandardScaler()\n",
    "test.fit(X_data_pol_train[numeric_features])\n",
    "\n",
    "#training data\n",
    "X_test_stand_large = X_data_pol_test.copy()\n",
    "X_test_stand_large[numeric_features] = test.transform(X_data_pol_test[numeric_features])\n",
    "\n",
    "\n",
    "test_dat_nn_large = data_prep(X_test_stand_large,y_data_bin_large)\n",
    "\n",
    "\n",
    "nn_preds  = torch.sigmoid(net_large(torch.tensor(test_dat_nn_large[:][0]).float()))\n",
    "nn_preds_high_pk  = np.where(nn_preds > .5, 1,0).reshape(-1,)\n",
    "\n",
    "\n",
    "all_results = list(conf_eval(nn_preds_high_pk, test_target_large))\n",
    "\n",
    "#performance_dic['nn_10_highpol'] = nn_list_large\n"
   ]
  },
  {
   "cell_type": "code",
   "execution_count": 111,
   "metadata": {},
   "outputs": [
    {
     "data": {
      "text/plain": [
       "[0.6756,\n",
       " 0.648921832884097,\n",
       " 0.35107816711590295,\n",
       " 0.7145669291338582,\n",
       " 0.2854330708661417]"
      ]
     },
     "execution_count": 111,
     "metadata": {},
     "output_type": "execute_result"
    }
   ],
   "source": [
    "#performance on covid set\n",
    "list(conf_eval(nn_preds_high_pk[test_data_large.article_num.isin(test_set_covid)], test_target_large[test_data_large.article_num.isin(test_set_covid)]))"
   ]
  },
  {
   "cell_type": "code",
   "execution_count": 112,
   "metadata": {},
   "outputs": [
    {
     "data": {
      "text/plain": [
       "[0.6828695652173913,\n",
       " 0.5274482203901065,\n",
       " 0.4725517796098934,\n",
       " 0.8012869618507737,\n",
       " 0.19871303814922628]"
      ]
     },
     "execution_count": 112,
     "metadata": {},
     "output_type": "execute_result"
    }
   ],
   "source": [
    "#performance on noncovid set\n",
    "list(conf_eval(nn_preds_high_pk[test_data_large.article_num.isin(test_set_non_covid_all)], test_target_large[test_data_large.article_num.isin(test_set_non_covid_all)]))"
   ]
  },
  {
   "cell_type": "code",
   "execution_count": 113,
   "metadata": {},
   "outputs": [
    {
     "data": {
      "text/plain": [
       "[0.6992631578947368,\n",
       " 0.5934038267875126,\n",
       " 0.4065961732124874,\n",
       " 0.7753256150506512,\n",
       " 0.22467438494934877]"
      ]
     },
     "execution_count": 113,
     "metadata": {},
     "output_type": "execute_result"
    }
   ],
   "source": [
    "#performance on period one\n",
    "list(conf_eval(nn_preds_high_pk[test_data_large.article_num.isin(test_set)], test_target_large[test_data_large.article_num.isin(test_set)]))"
   ]
  },
  {
   "cell_type": "code",
   "execution_count": 114,
   "metadata": {},
   "outputs": [
    {
     "data": {
      "text/plain": [
       "[0.6442222222222223,\n",
       " 0.49456740442655933,\n",
       " 0.5054325955734407,\n",
       " 0.8287841191066998,\n",
       " 0.17121588089330025]"
      ]
     },
     "execution_count": 114,
     "metadata": {},
     "output_type": "execute_result"
    }
   ],
   "source": [
    "#performance on period two \n",
    "list(conf_eval(nn_preds_high_pk[test_data_large.article_num.isin(test_set_two)], test_target_large[test_data_large.article_num.isin(test_set_two)]))"
   ]
  },
  {
   "cell_type": "markdown",
   "metadata": {},
   "source": [
    "### Percentage high PK"
   ]
  },
  {
   "cell_type": "code",
   "execution_count": 115,
   "metadata": {},
   "outputs": [],
   "source": [
    "control_data = pd.read_csv(source_data + \"full_survey_control_clean.csv\", index_col = 0, low_memory=False)\n",
    "control_data['pol_knowledge'] = control_data['Q_PK_1'].isin([\"Democratic Party\"])*1 + control_data['Q_PK_3'].isin([\"Nancy Pelosi\"])*1 + control_data['Q_PK_6'].isin([\"Prime Minister of the United Kingdom\"])*1 + control_data['Q_PK_7'].isin([\"Michael Pompeo\"])*1\n",
    "\n",
    "\n",
    "control_data_noncovid = pd.read_csv(source_data + \"full_survey_noncovid_control_clean.csv\", index_col = 0, low_memory=False)\n",
    "control_data_noncovid['pol_knowledge'] = control_data_noncovid['Q_PK_1'].isin([\"Democratic Party\"])*1 + control_data_noncovid['Q_PK_3'].isin([\"Nancy Pelosi\"])*1 + control_data_noncovid['Q_PK_6'].isin([\"Prime Minister of the United Kingdom\"])*1 + control_data_noncovid['Q_PK_7'].isin([\"Michael Pompeo\"])*1\n",
    "\n",
    "\n",
    "control_data_covid = pd.read_csv(source_data + \"full_survey_covid_control_clean.csv\", index_col = 0, low_memory=False)\n",
    "control_data_covid['pol_knowledge'] = control_data_covid['Q_PK_1'].isin([\"Democratic Party\"])*1 + control_data_covid['Q_PK_3'].isin([\"Nancy Pelosi\"])*1 + control_data_covid['Q_PK_6'].isin([\"Prime Minister of the United Kingdom\"])*1 + control_data_covid['Q_PK_7'].isin([\"Michael Pompeo\"])*1\n",
    "\n",
    "\n"
   ]
  },
  {
   "cell_type": "code",
   "execution_count": 116,
   "metadata": {},
   "outputs": [
    {
     "data": {
      "text/plain": [
       "0.507315034136826"
      ]
     },
     "execution_count": 116,
     "metadata": {},
     "output_type": "execute_result"
    }
   ],
   "source": [
    "#percentage all respondents with high political knowledge\n",
    "((control_data['pol_knowledge'] == 4).sum() + (control_data_noncovid['pol_knowledge'] == 4).sum() + (control_data_covid['pol_knowledge'] == 4).sum())/(control_data.shape[0] + control_data_noncovid.shape[0] + control_data_covid.shape[0])"
   ]
  },
  {
   "cell_type": "markdown",
   "metadata": {},
   "source": [
    "### Percentage high CRT"
   ]
  },
  {
   "cell_type": "code",
   "execution_count": 117,
   "metadata": {},
   "outputs": [],
   "source": [
    "control_data['tot_crt'] = control_data['Q_1st_CRT'].str.contains(\"2\", regex = False, case = False)*1 + control_data['Q_2nd_CRT'].isin([\"7\"])*1 + control_data['Q_3rd_CRT'].str.contains(\"emily\", regex = False, case = False)*1 + control_data['Q_4th_CRT'].str.contains(\"0|no dirt|zero|none|nothing\", regex = True, case = False)*1"
   ]
  },
  {
   "cell_type": "code",
   "execution_count": 118,
   "metadata": {},
   "outputs": [
    {
     "data": {
      "text/plain": [
       "1    0.446767\n",
       "2    0.335174\n",
       "0    0.125000\n",
       "3    0.089117\n",
       "4    0.003352\n",
       "Name: tot_crt, dtype: float64"
      ]
     },
     "execution_count": 118,
     "metadata": {},
     "output_type": "execute_result"
    }
   ],
   "source": [
    "control_data['tot_crt'].value_counts()/control_data.shape[0]"
   ]
  },
  {
   "cell_type": "code",
   "execution_count": 119,
   "metadata": {},
   "outputs": [
    {
     "data": {
      "text/plain": [
       "40"
      ]
     },
     "execution_count": 119,
     "metadata": {},
     "output_type": "execute_result"
    }
   ],
   "source": [
    "len(article_dic_covid)"
   ]
  },
  {
   "cell_type": "code",
   "execution_count": 120,
   "metadata": {},
   "outputs": [],
   "source": [
    "org_test_non = pickle.load(open(data_pickles + \"test_set_noncovid.p\", \"rb\"))\n",
    "org_val_non = pickle.load(open(data_pickles + \"val_set_noncovid.p\", \"rb\"))\n",
    "org_train_non = pickle.load(open(data_pickles + \"train_set_noncovid.p\", \"rb\"))"
   ]
  },
  {
   "cell_type": "markdown",
   "metadata": {},
   "source": [
    "### creating article level table"
   ]
  },
  {
   "cell_type": "code",
   "execution_count": 96,
   "metadata": {},
   "outputs": [],
   "source": [
    "article_df = pd.read_csv(prepared_data + \"article_table_orig.csv\")\n",
    "all_sets_list_ext = all_sets_list.copy()\n",
    "all_sets_list_ext.extend([1000])"
   ]
  },
  {
   "cell_type": "code",
   "execution_count": 97,
   "metadata": {},
   "outputs": [],
   "source": [
    "new_arts = article_df[article_df.num.isin(all_sets_list_ext)]"
   ]
  },
  {
   "cell_type": "code",
   "execution_count": 98,
   "metadata": {},
   "outputs": [],
   "source": [
    "new_arts.to_csv(prepared_data + \"article_table_final.csv\")"
   ]
  }
 ],
 "metadata": {
  "kernelspec": {
   "display_name": "Python 3",
   "language": "python",
   "name": "python3"
  },
  "language_info": {
   "codemirror_mode": {
    "name": "ipython",
    "version": 3
   },
   "file_extension": ".py",
   "mimetype": "text/x-python",
   "name": "python",
   "nbconvert_exporter": "python",
   "pygments_lexer": "ipython3",
   "version": "3.7.3"
  }
 },
 "nbformat": 4,
 "nbformat_minor": 4
}
