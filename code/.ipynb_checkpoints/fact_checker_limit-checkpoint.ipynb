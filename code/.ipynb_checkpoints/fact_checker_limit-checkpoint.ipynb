{
 "cells": [
  {
   "cell_type": "markdown",
   "metadata": {},
   "source": [
    "Author of code: William Godel \n",
    "\n",
    "Date: 07/02\n",
    "\n",
    "Purpose: to calculate how well fact checkers perform \n",
    "\n",
    "## Data IN:\n",
    "\n",
    "article_all.p\n",
    "\n",
    "article_dic.p\n",
    "\n",
    "article_all_covid.p\n",
    "\n",
    "article_dic_covid.p\n",
    "\n",
    "article_all_noncovid.p\n",
    "\n",
    "article_dic_noncovid.p\n",
    "\n",
    "test_set.p\n",
    "\n",
    "test_set_covid.p\n",
    "\n",
    "test_set_noncovid.p\n",
    "\n",
    "val_set.p\n",
    "\n",
    "val_set_covid.p\n",
    "\n",
    "val_set_noncovid.p\n",
    "\n",
    "train_set.p\n",
    "\n",
    "train_set_covid.p\n",
    "\n",
    "train_set_noncovid.p\n",
    "\n",
    "\n",
    "## Data OUT: \n",
    "\n",
    "None - just some statistics\n",
    "\n",
    "Machine: My laptop or Imac"
   ]
  },
  {
   "cell_type": "code",
   "execution_count": 4,
   "metadata": {},
   "outputs": [],
   "source": [
    "import numpy as np\n",
    "import pandas as pd\n",
    "import os\n",
    "import matplotlib.pyplot as plt\n",
    "import operator\n",
    "from tqdm import tqdm\n",
    "from scipy import stats\n",
    "import copy\n",
    "from collections import Counter\n",
    "from scipy.stats import multinomial\n",
    "import random\n",
    "import pickle\n",
    "\n",
    "import statsmodels.api as sm\n",
    "\n",
    "import seaborn as sns\n",
    "sns.set(style=\"ticks\", color_codes=True)\n",
    "\n",
    "##adjust your master directory below\n",
    "\n",
    "from path import *"
   ]
  },
  {
   "cell_type": "code",
   "execution_count": 5,
   "metadata": {},
   "outputs": [],
   "source": [
    "#probably don't need this\n",
    "test = pickle.load(open(data_pickles + 'test_set.p', \"rb\" ))\n",
    "test_covid = pickle.load(open(data_pickles + 'test_set_covid.p', \"rb\" ))\n",
    "test_noncovid = pickle.load(open(data_pickles + 'test_set_noncovid.p', \"rb\" ))\n",
    "\n",
    "val = pickle.load(open(data_pickles + 'val_set.p', \"rb\" ))\n",
    "val_covid = pickle.load(open(data_pickles + 'val_set_covid.p', \"rb\" ))\n",
    "val_noncovid = pickle.load(open(data_pickles + 'val_set_noncovid.p', \"rb\" ))\n",
    "\n",
    "train = pickle.load(open(data_pickles + 'train_set.p', \"rb\" ))\n",
    "train_covid = pickle.load(open(data_pickles + 'train_set_covid.p', \"rb\" ))\n",
    "train_noncovid = pickle.load(open(data_pickles + 'train_set_noncovid.p', \"rb\" ))\n"
   ]
  },
  {
   "cell_type": "code",
   "execution_count": 6,
   "metadata": {},
   "outputs": [],
   "source": [
    "#test.extend(test_covid)\n",
    "#test.extend(test_noncovid)"
   ]
  },
  {
   "cell_type": "code",
   "execution_count": 7,
   "metadata": {},
   "outputs": [],
   "source": [
    "article_all = pickle.load(open(data_pickles + 'article_all.p', \"rb\" ))\n",
    "article_dic = pickle.load(open(data_pickles + 'article_dic.p', \"rb\" ))\n",
    "\n",
    "article_all_covid = pickle.load(open(data_pickles + 'article_all_covid.p', \"rb\" ))\n",
    "article_dic_covid = pickle.load(open(data_pickles + 'article_dic_covid.p', \"rb\" ))\n",
    "\n",
    "article_all_noncovid = pickle.load(open(data_pickles + 'article_all_noncovid.p', \"rb\" ))\n",
    "article_dic_noncovid = pickle.load(open(data_pickles + 'article_dic_noncovid.p', \"rb\" ))"
   ]
  },
  {
   "cell_type": "code",
   "execution_count": 8,
   "metadata": {},
   "outputs": [],
   "source": [
    "#All of the articles\n",
    "votes_list =  [y[:6] for x, y in article_all.items() if x>10]\n",
    "votes_list = [[y for y in x if y is not None] for x in votes_list]\n",
    "\n",
    "votes_list_covid =  [y[:6] for x, y in article_all_covid.items()]\n",
    "votes_list_covid = [[y for y in x if y is not None] for x in votes_list_covid]\n",
    "\n",
    "votes_list_noncovid =  [y[:6] for x, y in article_all_noncovid.items()]\n",
    "votes_list_noncovid = [[y for y in x if y is not None] for x in votes_list_noncovid]\n",
    "\n",
    "#all low credibility\n",
    "votes_list_lowcred = [y[:6] for x, y in article_all.items() if 0 < x % 5 < 4 and x > 10]\n",
    "votes_list_lowcred = [[y for y in x if y is not None] for x in votes_list_lowcred]\n",
    "\n",
    "votes_list_lowcred_covid = [y[:6] for x, y in article_all_covid.items() if 0 < x % 5 < 4]\n",
    "votes_list_lowcred_covid = [[y for y in x if y is not None] for x in votes_list_lowcred_covid]\n",
    "\n",
    "votes_list_lowcred_noncovid = [y[:6] for x, y in article_all_noncovid.items() if 0 < x % 5 < 4]\n",
    "votes_list_lowcred_noncovid = [[y for y in x if y is not None] for x in votes_list_lowcred_noncovid]\n",
    "\n",
    "#all test\n",
    "votes_list_lowcred_test = [y[:6] for x, y in article_all.items() if 0 < x % 5 < 4 and x > 10 and x in test]\n",
    "votes_list_lowcred_test = [[y for y in x if y is not None] for x in votes_list_lowcred_test]\n",
    "\n",
    "votes_list_lowcred_covid_test = [y[:6] for x, y in article_all_covid.items() if 0 < x % 5 < 4 and x in test_covid] \n",
    "votes_list_lowcred_covid_test = [[y for y in x if y is not None] for x in votes_list_lowcred_covid_test]\n",
    "\n",
    "votes_list_lowcred_noncovid_test = [y[:6] for x, y in article_all_noncovid.items() if 0 < x % 5 < 4 and x in test_noncovid]\n",
    "votes_list_lowcred_noncovid_test = [[y for y in x if y is not None] for x in votes_list_lowcred_noncovid_test]\n",
    "\n",
    "\n",
    "#all\n",
    "votes_list.extend(votes_list_covid)\n",
    "votes_list.extend(votes_list_noncovid)\n",
    "\n",
    "\n",
    "#all low cred\n",
    "votes_list_lowcred.extend(votes_list_lowcred_covid)\n",
    "votes_list_lowcred.extend(votes_list_lowcred_noncovid)\n",
    "\n",
    "#all test\n",
    "votes_list_lowcred_test.extend(votes_list_lowcred_covid_test)\n",
    "votes_list_lowcred_test.extend(votes_list_lowcred_noncovid_test)"
   ]
  },
  {
   "cell_type": "code",
   "execution_count": 9,
   "metadata": {},
   "outputs": [],
   "source": [
    "### doing this for all mainstream\n",
    "\n",
    "#all high credibility\n",
    "votes_list_highcred = [y[:6] for x, y in article_all.items() if x % 5 in set([4,0]) and x > 10]\n",
    "votes_list_highcred = [[y for y in x if y is not None] for x in votes_list_highcred]\n",
    "\n",
    "votes_list_highcred_covid = [y[:6] for x, y in article_all_covid.items() if x % 5 in set([4,0])]\n",
    "votes_list_highcred_covid = [[y for y in x if y is not None] for x in votes_list_highcred_covid]\n",
    "\n",
    "votes_list_highcred_noncovid = [y[:6] for x, y in article_all_noncovid.items() if x % 5 in set([4,0])]\n",
    "votes_list_highcred_noncovid = [[y for y in x if y is not None] for x in votes_list_highcred_noncovid]\n",
    "\n",
    "#all low cred\n",
    "votes_list_highcred.extend(votes_list_highcred_covid)\n",
    "votes_list_highcred.extend(votes_list_highcred_noncovid)"
   ]
  },
  {
   "cell_type": "code",
   "execution_count": 10,
   "metadata": {},
   "outputs": [],
   "source": [
    "def simple_mode(input_list):\n",
    "    \n",
    "    count = Counter(input_list).most_common()\n",
    "    \n",
    "    final_list = []\n",
    "    \n",
    "    final_list.append(count[0][0])\n",
    "    \n",
    "    if len(count)>1:\n",
    "    \n",
    "        if count[0][1] == count[1][1]:\n",
    "\n",
    "            final_list.append(count[1][0])\n",
    "\n",
    "            if len(count)>2 and count[1][1] == count[2][1]:\n",
    "\n",
    "                final_list.append(count[2][0])\n",
    "\n",
    "    return final_list"
   ]
  },
  {
   "cell_type": "markdown",
   "metadata": {},
   "source": [
    "# Mode false simulation - The below are the calculations used for the paper"
   ]
  },
  {
   "cell_type": "code",
   "execution_count": 28,
   "metadata": {},
   "outputs": [],
   "source": [
    "## this is final method used in paper for the full dataset\n",
    "total_performance_lowcred_fullsim = []\n",
    "count = 0\n",
    "\n",
    "for macro_vote in votes_list_lowcred: #looping through all votes\n",
    "    \n",
    "    for a_vote in range(len(macro_vote)): #looping through each voter in each vote\n",
    "        \n",
    "        count += 1\n",
    "        \n",
    "        pred = macro_vote[a_vote] #one person's vote\n",
    "        \n",
    "        group = [x for i,x in enumerate(macro_vote) if i!=a_vote] #predictions of the other four\n",
    "        \n",
    "        group_mode = simple_mode(group)\n",
    "        \n",
    "        if len(group_mode) > 1: #mixed outcome - defaults to true\n",
    "            \n",
    "            if 'f' not in pred:\n",
    "                \n",
    "                total_performance_lowcred_fullsim.append(True)\n",
    "                \n",
    "            else: \n",
    "                \n",
    "                total_performance_lowcred_fullsim.append(False)\n",
    "        \n",
    "        elif 'f' in pred and pred == group_mode[0]:\n",
    "            \n",
    "            total_performance_lowcred_fullsim.append(True)\n",
    "            \n",
    "        elif 'f' not in pred and 'f' not in group_mode:\n",
    "            \n",
    "            total_performance_lowcred_fullsim.append(True)\n",
    "            \n",
    "        else:\n",
    "            \n",
    "            #print(pred,group_mode)\n",
    "            \n",
    "            total_performance_lowcred_fullsim.append(False)\n",
    "            \n",
    "        "
   ]
  },
  {
   "cell_type": "code",
   "execution_count": 29,
   "metadata": {},
   "outputs": [
    {
     "data": {
      "text/plain": [
       "0.7282913165266106"
      ]
     },
     "execution_count": 29,
     "metadata": {},
     "output_type": "execute_result"
    }
   ],
   "source": [
    "sum(total_performance_lowcred_fullsim)/len(total_performance_lowcred_fullsim)"
   ]
  },
  {
   "cell_type": "code",
   "execution_count": 33,
   "metadata": {},
   "outputs": [],
   "source": [
    "## this is final method used in paper for test\n",
    "\n",
    "total_performance_lowcred_fullsim = []\n",
    "\n",
    "count = 0\n",
    "\n",
    "for macro_vote in votes_list_lowcred_test: #looping through all votes\n",
    "    \n",
    "    for a_vote in range(len(macro_vote)): #looping through each voter in each vote\n",
    "        \n",
    "        count +=1\n",
    "        \n",
    "        pred = macro_vote[a_vote] #one person's vote\n",
    "        \n",
    "        group = [x for i,x in enumerate(macro_vote) if i!=a_vote] #predictions of the other four\n",
    "        \n",
    "        group_mode = simple_mode(group)\n",
    "        \n",
    "        if len(group_mode) > 1: #mixed outcome - defaults to true\n",
    "            \n",
    "            if pred != 'f':\n",
    "                \n",
    "                total_performance_lowcred_fullsim.append(True)\n",
    "                \n",
    "            else: \n",
    "                \n",
    "                total_performance_lowcred_fullsim.append(False)\n",
    "        \n",
    "        elif 'f' in pred and pred == group_mode[0]:\n",
    "            \n",
    "            total_performance_lowcred_fullsim.append(True)\n",
    "            \n",
    "        elif 'f' not in pred and 'f' not in group_mode:\n",
    "            \n",
    "            total_performance_lowcred_fullsim.append(True)\n",
    "            \n",
    "        else:\n",
    "            \n",
    "            #print(pred,group_mode)\n",
    "            \n",
    "            total_performance_lowcred_fullsim.append(False)"
   ]
  },
  {
   "cell_type": "code",
   "execution_count": 34,
   "metadata": {},
   "outputs": [
    {
     "data": {
      "text/plain": [
       "0.6938775510204082"
      ]
     },
     "execution_count": 34,
     "metadata": {},
     "output_type": "execute_result"
    }
   ],
   "source": [
    "sum(total_performance_lowcred_fullsim)/len(total_performance_lowcred_fullsim)"
   ]
  },
  {
   "cell_type": "code",
   "execution_count": 13,
   "metadata": {},
   "outputs": [],
   "source": [
    "\n",
    "total_performance_highcred_fullsim = []\n",
    "\n",
    "count = 0\n",
    "\n",
    "for macro_vote in votes_list_highcred: #looping through all votes\n",
    "    \n",
    "    for a_vote in range(len(macro_vote)): #looping through each voter in each vote\n",
    "        \n",
    "        count +=1\n",
    "        \n",
    "        pred = macro_vote[a_vote] #one person's vote\n",
    "        \n",
    "        group = [x for i,x in enumerate(macro_vote) if i!=a_vote] #predictions of the other four\n",
    "        \n",
    "        group_mode = simple_mode(group)\n",
    "        \n",
    "        if len(group_mode) > 1: #mixed outcome - defaults to true\n",
    "            \n",
    "            if pred != 'f':\n",
    "                \n",
    "                total_performance_highcred_fullsim.append(True)\n",
    "                \n",
    "            else: \n",
    "                \n",
    "                total_performance_highcred_fullsim.append(False)\n",
    "        \n",
    "        elif 'f' in pred and pred == group_mode[0]:\n",
    "            \n",
    "            total_performance_highcred_fullsim.append(True)\n",
    "            \n",
    "        elif 'f' not in pred and 'f' not in group_mode:\n",
    "            \n",
    "            total_performance_highcred_fullsim.append(True)\n",
    "            \n",
    "        else:\n",
    "            \n",
    "            #print(pred,group_mode)\n",
    "            \n",
    "            total_performance_highcred_fullsim.append(False)"
   ]
  },
  {
   "cell_type": "code",
   "execution_count": 14,
   "metadata": {},
   "outputs": [
    {
     "data": {
      "text/plain": [
       "0.9201680672268907"
      ]
     },
     "execution_count": 14,
     "metadata": {},
     "output_type": "execute_result"
    }
   ],
   "source": [
    "sum(total_performance_highcred_fullsim)/len(total_performance_highcred_fullsim)"
   ]
  },
  {
   "cell_type": "code",
   "execution_count": 11,
   "metadata": {},
   "outputs": [],
   "source": [
    "##total performance on all data\n",
    "total_performance = []\n",
    "\n",
    "count = 0\n",
    "\n",
    "for macro_vote in votes_list: #looping through all votes\n",
    "    \n",
    "    for a_vote in range(len(macro_vote)): #looping through each voter in each vote\n",
    "        \n",
    "        count +=1\n",
    "        \n",
    "        pred = macro_vote[a_vote] #one person's vote\n",
    "        \n",
    "        group = [x for i,x in enumerate(macro_vote) if i!=a_vote] #predictions of the other four\n",
    "        \n",
    "        group_mode = simple_mode(group)\n",
    "        \n",
    "        if len(group_mode) > 1: #mixed outcome - defaults to true\n",
    "            \n",
    "            if pred != 'f':\n",
    "                \n",
    "                total_performance.append(True)\n",
    "                \n",
    "            else: \n",
    "                \n",
    "                total_performance.append(False)\n",
    "        \n",
    "        elif 'f' in pred and pred == group_mode[0]:\n",
    "            \n",
    "            total_performance.append(True)\n",
    "            \n",
    "        elif 'f' not in pred and 'f' not in group_mode:\n",
    "            \n",
    "            total_performance.append(True)\n",
    "            \n",
    "        else:\n",
    "            \n",
    "            #print(pred,group_mode)\n",
    "            \n",
    "            total_performance.append(False)"
   ]
  },
  {
   "cell_type": "code",
   "execution_count": 12,
   "metadata": {},
   "outputs": [
    {
     "data": {
      "text/plain": [
       "0.8050420168067227"
      ]
     },
     "execution_count": 12,
     "metadata": {},
     "output_type": "execute_result"
    }
   ],
   "source": [
    "sum(total_performance)/len(total_performance)"
   ]
  },
  {
   "cell_type": "code",
   "execution_count": null,
   "metadata": {},
   "outputs": [],
   "source": []
  }
 ],
 "metadata": {
  "kernelspec": {
   "display_name": "Python 3",
   "language": "python",
   "name": "python3"
  },
  "language_info": {
   "codemirror_mode": {
    "name": "ipython",
    "version": 3
   },
   "file_extension": ".py",
   "mimetype": "text/x-python",
   "name": "python",
   "nbconvert_exporter": "python",
   "pygments_lexer": "ipython3",
   "version": "3.7.3"
  }
 },
 "nbformat": 4,
 "nbformat_minor": 4
}
