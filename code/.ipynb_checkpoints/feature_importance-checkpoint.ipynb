{
 "cells": [
  {
   "cell_type": "markdown",
   "metadata": {},
   "source": [
    "Author of code: William Godel \n",
    "\n",
    "Date: 07/02\n",
    "\n",
    "Purpose: to analize feature importance of some models\n",
    "\n",
    "## Data IN: \n",
    "\n",
    "X_train_stand.p\n",
    "\n",
    "Y_data.p\n",
    "\n",
    "X_val_stand.p\n",
    "\n",
    "Y_data_val.p\n",
    "\n",
    "X_train_stand_large.p\n",
    "\n",
    "test_target_large.p\n",
    "\n",
    "model_large.pt\n",
    " \n",
    "X_data_pol_test.p\n",
    "\n",
    "X_data_pol_orig.p\n",
    "\n",
    "model_nn_highpol.pt\n",
    "\n",
    "\n",
    "## Data OUT: \n",
    "\n",
    "percentage_change_pol.pt\n",
    "\n",
    "\n",
    "Machine: My laptop or Imac"
   ]
  },
  {
   "cell_type": "code",
   "execution_count": 5,
   "metadata": {},
   "outputs": [
    {
     "name": "stdout",
     "output_type": "stream",
     "text": [
      "The autoreload extension is already loaded. To reload it, use:\n",
      "  %reload_ext autoreload\n"
     ]
    }
   ],
   "source": [
    "%load_ext autoreload\n",
    "%autoreload 2\n",
    "\n",
    "import numpy as np\n",
    "import pandas as pd\n",
    "import os\n",
    "import matplotlib.pyplot as plt\n",
    "from collections import Counter\n",
    "laptop = True\n",
    "import pickle\n",
    "from sklearn.pipeline import Pipeline\n",
    "from sklearn.preprocessing import StandardScaler\n",
    "from sklearn.preprocessing import OneHotEncoder\n",
    "from sklearn.preprocessing import LabelEncoder\n",
    "from sklearn.compose import ColumnTransformer\n",
    "from sklearn.model_selection import PredefinedSplit\n",
    "from sklearn.model_selection import GridSearchCV\n",
    "from sklearn.linear_model import ElasticNet\n",
    "from sklearn.ensemble import RandomForestClassifier, GradientBoostingClassifier\n",
    "\n",
    "from functions import count_mode, bayes_probs, bayes_binary\n",
    "from ml_functions import feature_creation, conf_eval, data_prep, test_model\n",
    "\n",
    "from sklearn.model_selection import train_test_split\n",
    "\n",
    "import shap\n",
    "\n",
    "from path import *"
   ]
  },
  {
   "cell_type": "code",
   "execution_count": 6,
   "metadata": {},
   "outputs": [],
   "source": [
    "X_train_stand = pickle.load(open(data_pickles + 'X_train_stand.p', \"rb\" ))\n",
    "Y_data = pickle.load(open(data_pickles + 'Y_data.p', \"rb\" ))\n",
    "\n",
    "X_val_stand = pickle.load(open(data_pickles + 'X_val_stand.p', \"rb\" ))\n",
    "Y_data_val = pickle.load(open(data_pickles + 'Y_data_val.p', \"rb\" ))\n",
    "\n",
    "X_test_stand_large = pickle.load(open(data_pickles + 'X_test_stand_large.p', \"rb\" ))\n",
    "test_target_large = pickle.load(open(data_pickles + 'test_target_large.p', \"rb\" ))\n"
   ]
  },
  {
   "cell_type": "code",
   "execution_count": 7,
   "metadata": {},
   "outputs": [],
   "source": [
    "numeric_features = []\n",
    "\n",
    "resp_var = [x for x in X_train_stand.columns if 'resp_veracity_' in x]\n",
    "new_cols = [x for x in X_train_stand.columns if 'new' in x]\n",
    "\n",
    "#numeric_features.extend(resp_var)\n",
    "numeric_features.extend(resp_var) #rempve this if it doesn't work\n",
    "numeric_features.extend(new_cols)\n",
    "numeric_features.extend([\"crowd_means\",'crowd_median','crowd_full_range', 'crowd_IQR_range', \\\n",
    "                         'crowd_variance', 'crowd_bayes'])"
   ]
  },
  {
   "cell_type": "code",
   "execution_count": 8,
   "metadata": {},
   "outputs": [],
   "source": [
    "import torch\n",
    "import torch.nn as nn\n",
    "import torch.nn.functional as F\n",
    "\n",
    "class Net(nn.Module):\n",
    "\n",
    "    def __init__(self, emb_dim):\n",
    "        super(Net, self).__init__()\n",
    "        self.fc1 = nn.Linear(emb_dim, 500) \n",
    "        self.fc2 = nn.Linear(500, 100)\n",
    "        self.fc3 = nn.Linear(100, 25)\n",
    "        self.fc4 = nn.Linear(25, 25)\n",
    "        self.fc5 = nn.Linear(25, 10)\n",
    "        self.fc6 = nn.Linear(10, 1)\n",
    "        self.softmax = nn.Softmax(dim=1)\n",
    "\n",
    "    def forward(self, x):\n",
    "        x = F.relu(self.fc1(x))\n",
    "        x = F.relu(self.fc2(x))\n",
    "        x = F.relu(self.fc3(x))\n",
    "        x = F.relu(self.fc4(x))\n",
    "        x = F.relu(self.fc5(x))\n",
    "        x = self.fc6(x)\n",
    "        \n",
    "        return x\n",
    "\n"
   ]
  },
  {
   "cell_type": "code",
   "execution_count": 9,
   "metadata": {},
   "outputs": [],
   "source": [
    "rand_cols = ['crowd_means',\n",
    " 'crowd_median',\n",
    " 'crowd_full_range',\n",
    " 'crowd_IQR_range',\n",
    " 'crowd_variance',\n",
    " 'crowd_bayes',\n",
    " 'new_crowd_t',\n",
    " 'new_crowd_f',\n",
    " 'new_crowd_c',\n",
    " 'new_t_f',\n",
    " 'new_t_f_d',\n",
    " 'new_c_dif',\n",
    " 'new_t_dif',\n",
    " 'new_f_dif',\n",
    " 'new_c_per',\n",
    " 'new_t_per',\n",
    " 'new_f_per',\n",
    " 'new_f_rat',\n",
    " 'new_t_rat',\n",
    "'crowd_mode_f',\n",
    " 'crowd_mode_t']"
   ]
  },
  {
   "cell_type": "code",
   "execution_count": 10,
   "metadata": {},
   "outputs": [],
   "source": [
    "feature_dic= {}\n",
    "\n",
    "emb_dim = 121   \n",
    "net_large = Net(emb_dim)\n",
    "net_large.load_state_dict(torch.load(models + \"model_large.pt\"))\n",
    "net_large.eval()\n",
    "\n",
    "num_sim = 100\n",
    "\n",
    "for a_col in rand_cols:\n",
    "    \n",
    "    perf_list = []\n",
    "    \n",
    "    for sim in range(num_sim):\n",
    "    \n",
    "        x_stand_rand = X_test_stand_large.copy()\n",
    "\n",
    "        array_target_test = np.array(x_stand_rand[a_col])\n",
    "\n",
    "        np.random.shuffle(array_target_test)\n",
    "\n",
    "        x_stand_rand[a_col] = array_target_test\n",
    "\n",
    "        train_dat_nn_large = data_prep(x_stand_rand,test_target_large)\n",
    "\n",
    "        nn_preds  = torch.sigmoid(net_large(torch.tensor(train_dat_nn_large[:][0]).float()))\n",
    "        nn_preds = np.where(nn_preds > .5, 1,0).reshape(-1,)\n",
    "\n",
    "        all_results = list(conf_eval(nn_preds, test_target_large))\n",
    "        \n",
    "        perf_list.append(all_results[0])\n",
    "\n",
    "    feature_dic[a_col] = np.mean(perf_list)"
   ]
  },
  {
   "cell_type": "code",
   "execution_count": 11,
   "metadata": {},
   "outputs": [
    {
     "data": {
      "text/plain": [
       "<BarContainer object of 21 artists>"
      ]
     },
     "execution_count": 11,
     "metadata": {},
     "output_type": "execute_result"
    },
    {
     "data": {
      "image/png": "[encoded data removed]",
      "text/plain": [
       "<Figure size 432x288 with 1 Axes>"
      ]
     },
     "metadata": {
      "needs_background": "light"
     },
     "output_type": "display_data"
    }
   ],
   "source": [
    "keys_large = feature_dic.keys()\n",
    "values_large = feature_dic.values()\n",
    "plt.bar(keys_large,values_large)"
   ]
  },
  {
   "cell_type": "markdown",
   "metadata": {},
   "source": [
    "## NN high pol"
   ]
  },
  {
   "cell_type": "code",
   "execution_count": 12,
   "metadata": {},
   "outputs": [],
   "source": [
    "X_data_pol_test = pd.read_pickle(data_pickles + 'pol_knowledge_df_test.p')\n",
    "X_data_pol_orig = pd.read_pickle(data_pickles + 'pol_knowledge_df_train_orig.p')"
   ]
  },
  {
   "cell_type": "code",
   "execution_count": 13,
   "metadata": {},
   "outputs": [],
   "source": [
    "X_data_pol_test = feature_creation(X_data_pol_test)\n",
    "X_data_pol_orig = feature_creation(X_data_pol_orig)"
   ]
  },
  {
   "cell_type": "code",
   "execution_count": 14,
   "metadata": {},
   "outputs": [],
   "source": [
    "covert_names_dic = {\"True minus False\": \"new_t_f\",\n",
    "\"True to False Ratio\": \"new_t_f_d\",\n",
    "\"CND minus True and False\": \"new_c_dif\",\n",
    "\"True minus CND and False\": \"new_t_dif\",\n",
    "\"False minus True and CND\": \"new_f_dif\",\n",
    "\"Percentage CND\": \"new_c_per\",\n",
    "\"Percentage True\": \"new_t_per\",\n",
    "\"Percentage False\": \"new_f_per\",\n",
    "\"Ratio of False and CND to True\" : \"new_f_rat\",\n",
    "\"Ratio of True and CND to False\" : \"new_t_rat\",\n",
    "\"Number True\": \"new_crowd_t\",\n",
    "\"Number False\": \"new_crowd_f\",\n",
    "\"Number CND\": \"new_crowd_c\",\n",
    "\"Full Range of Crowd\":\"crowd_full_range\",\n",
    "\"IQR Range of Crowd\":\"crowd_IQR_range\",\n",
    "\"Crowd Mean\":\"crowd_means\",\n",
    "\"Crowd Median\": \"crowd_median\",\n",
    "\"Crowd Variance\": \"crowd_variance\",\n",
    "\"Crowd Bayes\":\"crowd_bayes\",\n",
    "\"Ideology of Respondent 7\":\"ideology_resp_7\",\n",
    "\"Veracity Score of Respondent 8\":\"resp_veracity_8\",\n",
    "\"Veracity Score of Respondent 6\":\"resp_veracity_6\",\n",
    "\"Mode of Crowd T\":\"crowd_mode_t\",\n",
    "\"Mode of Crowd F\":\"crowd_mode_f\",}\n",
    "\n",
    "\n",
    "covert_names_dic = {k:v for v,k in covert_names_dic.items()}\n",
    "    "
   ]
  },
  {
   "cell_type": "code",
   "execution_count": 15,
   "metadata": {},
   "outputs": [],
   "source": [
    "numeric_features = []\n",
    "\n",
    "resp_var = [x for x in X_data_pol_test.columns if 'resp_veracity_' in x]\n",
    "new_cols = [x for x in X_data_pol_test.columns if 'new' in x]\n",
    "\n",
    "numeric_features.extend(resp_var) \n",
    "numeric_features.extend(new_cols)\n",
    "numeric_features.extend([\"crowd_means\",'crowd_median','crowd_full_range', 'crowd_IQR_range', \\\n",
    "                         'crowd_variance', 'crowd_bayes'])"
   ]
  },
  {
   "cell_type": "code",
   "execution_count": null,
   "metadata": {},
   "outputs": [],
   "source": [
    "feature_dic_highpol= {}\n",
    "\n",
    "emb_dim = 61 \n",
    "net_highpol = Net(emb_dim)\n",
    "net_highpol.load_state_dict(torch.load(models + \"model_nn_highpol.pt\"))\n",
    "net_highpol.eval()\n",
    "\n",
    "num_sim = 100\n",
    "\n",
    "\n",
    "test = StandardScaler()\n",
    "test.fit(X_data_pol_orig[numeric_features])\n",
    "\n",
    "#training data\n",
    "X_test_stand_large = X_data_pol_test.copy()\n",
    "X_test_stand_large[numeric_features] = test.transform(X_data_pol_test[numeric_features])\n",
    "\n",
    "for a_col in rand_cols:\n",
    "    \n",
    "    perf_list = []\n",
    "    \n",
    "    for sim in range(num_sim):\n",
    "    \n",
    "        x_stand_rand = X_test_stand_large.copy()\n",
    "\n",
    "        array_target_test = np.array(x_stand_rand[a_col])\n",
    "\n",
    "        np.random.shuffle(array_target_test)\n",
    "\n",
    "        x_stand_rand[a_col] = array_target_test\n",
    "\n",
    "        train_dat_nn_large = data_prep(x_stand_rand,test_target_large)\n",
    "\n",
    "        nn_preds  = torch.sigmoid(net_highpol(torch.tensor(train_dat_nn_large[:][0]).float()))\n",
    "        nn_preds = np.where(nn_preds > .5, 1,0).reshape(-1,)\n",
    "\n",
    "        all_results = list(conf_eval(nn_preds, test_target_large))\n",
    "        \n",
    "        perf_list.append(all_results[0])\n",
    "\n",
    "    feature_dic_highpol[a_col] = np.mean(perf_list)"
   ]
  },
  {
   "cell_type": "code",
   "execution_count": null,
   "metadata": {},
   "outputs": [],
   "source": [
    "df_high_pol = pd.Series(feature_dic_highpol).sort_values()"
   ]
  },
  {
   "cell_type": "code",
   "execution_count": null,
   "metadata": {},
   "outputs": [],
   "source": [
    "# Best performance is 0.6785714285714286\n",
    "#total change in performance is 0.1070714285714286\n",
    "\n",
    "percentage_change_pol = (0.6785714285714286 - df_high_pol)/0.1070714285714286"
   ]
  },
  {
   "cell_type": "code",
   "execution_count": null,
   "metadata": {},
   "outputs": [],
   "source": [
    "pickle.dump(percentage_change_pol, open(data_pickles +  \"percentage_change_pol.p\", \"wb\" ) )"
   ]
  },
  {
   "cell_type": "code",
   "execution_count": null,
   "metadata": {},
   "outputs": [],
   "source": [
    "percentage_change_pol.rename(index = covert_names_dic, inplace = True)\n",
    "percentage_change_pol.plot(kind = 'bar')"
   ]
  },
  {
   "cell_type": "markdown",
   "metadata": {},
   "source": [
    "# Shap values"
   ]
  },
  {
   "cell_type": "code",
   "execution_count": null,
   "metadata": {},
   "outputs": [],
   "source": [
    "\n",
    "covert_names_dic = {\"True minus False\": \"new_t_f\",\n",
    "\"True to False Ratio\": \"new_t_f_d\",\n",
    "\"CND minus True and False\": \"new_c_dif\",\n",
    "\"True minus CND and False\": \"new_t_dif\",\n",
    "\"False minus True and CND\": \"new_f_dif\",\n",
    "\"Percentage CND\": \"new_c_per\",\n",
    "\"Percentage True\": \"new_t_per\",\n",
    "\"Percentage False\": \"new_f_per\",\n",
    "\"Ratio of False and CND to True\" : \"new_f_rat\",\n",
    "\"Ratio of True and CND to False\" : \"new_t_rat\",\n",
    "\"Number True\": \"new_crowd_t\",\n",
    "\"Number False\": \"new_crowd_f\",\n",
    "\"Number CND\": \"new_crowd_c\",\n",
    "\"Full Range of Crowd\":\"crowd_full_range\",\n",
    "\"IQR Range of Crowd\":\"crowd_IQR_range\",\n",
    "\"Crowd Mean\":\"crowd_means\",\n",
    "\"Crowd Median\": \"crowd_median\",\n",
    "\"Crowd Variance\": \"crowd_variance\",\n",
    "\"Crowd Bayes\":\"crowd_bayes\",\n",
    "\"Ideology of Respondent 7\":\"ideology_resp_7\",\n",
    "\"Veracity Score of Respondent 8\":\"resp_veracity_8\",\n",
    "\"Veracity Score of Respondent 6\":\"resp_veracity_6\"}\n",
    "\n",
    "\n",
    "covert_names_dic = {k:v for v,k in covert_names_dic.items()}\n",
    "    "
   ]
  },
  {
   "cell_type": "code",
   "execution_count": null,
   "metadata": {},
   "outputs": [],
   "source": [
    "test_data = data_prep(X_test_stand_large,test_target_large)\n",
    "test_loader = torch.utils.data.DataLoader(test_data, batch_size=1000,\n",
    "                                          shuffle=True, num_workers=2)\n",
    "batch = next(iter(test_loader))\n",
    "data1, _ = batch\n",
    "e = shap.DeepExplainer(net_highpol, data1.float())\n",
    "shap_values = e.shap_values(data1.float())\n",
    "\n",
    "#batch2 = next(iter(test_loader))\n",
    "#data2, _ = batch2\n",
    "graph_data = pd.DataFrame(data1.numpy(), columns = X_test_stand_large.columns)"
   ]
  },
  {
   "cell_type": "code",
   "execution_count": null,
   "metadata": {},
   "outputs": [],
   "source": [
    "graph_data.rename(columns=covert_names_dic, inplace = True)"
   ]
  },
  {
   "cell_type": "code",
   "execution_count": null,
   "metadata": {},
   "outputs": [],
   "source": [
    "shap.summary_plot(shap_values,  graph_data)"
   ]
  },
  {
   "cell_type": "code",
   "execution_count": null,
   "metadata": {},
   "outputs": [],
   "source": [
    "data1.shape"
   ]
  },
  {
   "cell_type": "code",
   "execution_count": null,
   "metadata": {},
   "outputs": [],
   "source": [
    "shap.summary_plot(shap_values,  graph_data, plot_type=\"bar\")"
   ]
  },
  {
   "cell_type": "markdown",
   "metadata": {},
   "source": [
    "# Large NN Shap values"
   ]
  },
  {
   "cell_type": "code",
   "execution_count": null,
   "metadata": {},
   "outputs": [],
   "source": [
    "numeric_features_large = []\n",
    "\n",
    "resp_var = [x for x in X_test_stand_large.columns if 'resp_veracity_' in x]\n",
    "new_cols = [x for x in X_test_stand_large.columns if 'new' in x]\n",
    "\n",
    "#numeric_features.extend(resp_var)\n",
    "numeric_features_large.extend(resp_var) #rempve this if it doesn't work\n",
    "numeric_features_large.extend(new_cols)\n",
    "numeric_features_large.extend([\"crowd_means\",'crowd_median','crowd_full_range', 'crowd_IQR_range', \\\n",
    "                         'crowd_variance', 'crowd_bayes'])"
   ]
  },
  {
   "cell_type": "code",
   "execution_count": null,
   "metadata": {},
   "outputs": [],
   "source": [
    "emb_dim = 121   \n",
    "net_large = Net(emb_dim)\n",
    "net_large.load_state_dict(torch.load(models + \"model_large.pt\"))\n",
    "net_large.eval()"
   ]
  },
  {
   "cell_type": "code",
   "execution_count": null,
   "metadata": {},
   "outputs": [],
   "source": [
    "X_test_stand_large = pickle.load(open(data_pickles + 'X_train_stand_large.p', \"rb\" ))\n",
    "test_data = data_prep(X_test_stand_large,test_target_large)\n",
    "test_loader = torch.utils.data.DataLoader(test_data, batch_size=1000,\n",
    "                                          shuffle=True, num_workers=2)\n",
    "\n",
    "batch = next(iter(test_loader))\n",
    "data1, _ = batch\n",
    "e = shap.DeepExplainer(net_large, data1.float())\n",
    "shap_values = e.shap_values(data1.float())\n",
    "\n",
    "#batch2 = next(iter(test_loader))\n",
    "#data2, _ = batch2\n",
    "graph_data = pd.DataFrame(data1.numpy(), columns = X_test_stand_large.columns)"
   ]
  },
  {
   "cell_type": "code",
   "execution_count": null,
   "metadata": {},
   "outputs": [],
   "source": [
    "graph_data.rename(columns=covert_names_dic, inplace = True)"
   ]
  },
  {
   "cell_type": "code",
   "execution_count": null,
   "metadata": {},
   "outputs": [],
   "source": [
    "shap.summary_plot(shap_values,  graph_data)"
   ]
  },
  {
   "cell_type": "code",
   "execution_count": null,
   "metadata": {},
   "outputs": [],
   "source": []
  }
 ],
 "metadata": {
  "kernelspec": {
   "display_name": "Python 3",
   "language": "python",
   "name": "python3"
  },
  "language_info": {
   "codemirror_mode": {
    "name": "ipython",
    "version": 3
   },
   "file_extension": ".py",
   "mimetype": "text/x-python",
   "name": "python",
   "nbconvert_exporter": "python",
   "pygments_lexer": "ipython3",
   "version": "3.7.3"
  },
  "varInspector": {
   "cols": {
    "lenName": 16,
    "lenType": 16,
    "lenVar": 40
   },
   "kernels_config": {
    "python": {
     "delete_cmd_postfix": "",
     "delete_cmd_prefix": "del ",
     "library": "var_list.py",
     "varRefreshCmd": "print(var_dic_list())"
    },
    "r": {
     "delete_cmd_postfix": ") ",
     "delete_cmd_prefix": "rm(",
     "library": "var_list.r",
     "varRefreshCmd": "cat(var_dic_list()) "
    }
   },
   "types_to_exclude": [
    "module",
    "function",
    "builtin_function_or_method",
    "instance",
    "_Feature"
   ],
   "window_display": false
  }
 },
 "nbformat": 4,
 "nbformat_minor": 4
}
