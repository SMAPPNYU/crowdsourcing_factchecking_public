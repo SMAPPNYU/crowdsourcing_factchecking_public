{
 "cells": [
  {
   "cell_type": "markdown",
   "metadata": {},
   "source": [
    "## R & R"
   ]
  },
  {
   "cell_type": "code",
   "execution_count": 1,
   "metadata": {},
   "outputs": [],
   "source": [
    "%load_ext autoreload\n",
    "%autoreload 2\n",
    "\n",
    "import numpy as np\n",
    "import pandas as pd\n",
    "import os\n",
    "import matplotlib.pyplot as plt\n",
    "from collections import Counter\n",
    "laptop = True\n",
    "import pickle\n",
    "\n",
    "import logging\n",
    "logging.basicConfig(filename='ML.log',level=logging.DEBUG)\n",
    "from sklearn.pipeline import Pipeline\n",
    "from sklearn.preprocessing import StandardScaler\n",
    "from sklearn.preprocessing import OneHotEncoder\n",
    "from sklearn.preprocessing import LabelEncoder\n",
    "from sklearn.compose import ColumnTransformer\n",
    "from sklearn.model_selection import PredefinedSplit\n",
    "from sklearn.model_selection import GridSearchCV\n",
    "\n",
    "from sklearn.linear_model import ElasticNet, LogisticRegression\n",
    "from sklearn.ensemble import RandomForestClassifier, GradientBoostingClassifier\n",
    "\n",
    "from ml_functions import feature_creation, conf_eval, data_prep, test_model\n",
    "\n",
    "from functions import count_mode, bayes_probs, bayes_binary\n",
    "\n",
    "from sklearn.model_selection import train_test_split\n",
    "\n",
    "import torch\n",
    "import torch.nn as nn\n",
    "import torch.nn.functional as F\n",
    "\n",
    "#crowd_size, feature_transform\n",
    "from path import *"
   ]
  },
  {
   "cell_type": "markdown",
   "metadata": {},
   "source": [
    "## Importing Data"
   ]
  },
  {
   "cell_type": "code",
   "execution_count": 2,
   "metadata": {},
   "outputs": [],
   "source": [
    "test_data = pd.read_csv(prepared_data + \"test_data_large.csv\")\n",
    "test_data_covid = pd.read_csv(prepared_data + \"test_data_large_covid.csv\")\n",
    "test_data_noncovid = pd.read_csv(prepared_data + \"test_data_large_noncovid.csv\")\n",
    "\n",
    "test_data_large = test_data.append(test_data_covid)\n",
    "test_data_large = test_data_large.append(test_data_noncovid)\n",
    "\n",
    "test_data_large.reset_index(inplace = True, drop = True)\n",
    "test_target_large = test_data_large['mode'] == 'FM'\n",
    "\n",
    "\n",
    "X_test = feature_creation(test_data_large)\n"
   ]
  },
  {
   "cell_type": "code",
   "execution_count": 115,
   "metadata": {},
   "outputs": [],
   "source": [
    "train_data = pd.read_csv(prepared_data + \"train_data_large.csv\")\n",
    "val_data = pd.read_csv(prepared_data + \"val_data_large.csv\")\n",
    "\n",
    "train_data_covid = pd.read_csv(prepared_data + \"train_data_large_covid.csv\")\n",
    "val_data_covid = pd.read_csv(prepared_data + \"val_data_large_covid.csv\")\n",
    "\n",
    "\n",
    "train_data_noncovid = pd.read_csv(prepared_data + \"train_data_large_noncovid.csv\")\n",
    "val_data_noncovid = pd.read_csv(prepared_data + \"val_data_large_noncovid.csv\")\n",
    "\n",
    "\n",
    "\n",
    "train_data_large = train_data.append(train_data_covid)\n",
    "train_data_large = train_data_large.append(train_data_noncovid)\n",
    "\n",
    "train_data_large.reset_index(inplace = True, drop = True)\n",
    "\n",
    "val_data_large = val_data.append(val_data_covid)\n",
    "val_data_large = val_data_large.append(val_data_noncovid)\n",
    "\n",
    "val_data_large.reset_index(inplace = True, drop = True)\n",
    "\n",
    "\n",
    "train_target_large = train_data_large['mode'] == 'FM'\n",
    "val_target_large = val_data_large['mode'] == 'FM'\n",
    "\n",
    "X_train = feature_creation(train_data_large)\n",
    "X_val = feature_creation(val_data_large)\n"
   ]
  },
  {
   "cell_type": "markdown",
   "metadata": {},
   "source": [
    "### Test Sets"
   ]
  },
  {
   "cell_type": "code",
   "execution_count": 55,
   "metadata": {},
   "outputs": [],
   "source": [
    "test_set = pickle.load(open(data_pickles + 'test_set.p', \"rb\" ))\n",
    "test_set_covid = pickle.load(open(data_pickles + 'test_set_covid.p', \"rb\" ))\n",
    "test_set_noncovid = pickle.load(open(data_pickles + 'test_set_noncovid.p', \"rb\" ))\n",
    "\n",
    "test_set_all = test_set + test_set_covid + test_set_noncovid\n",
    "test_set_non_covid_all = test_set + test_set_noncovid\n",
    "test_set_two = test_set_covid + test_set_noncovid"
   ]
  },
  {
   "cell_type": "code",
   "execution_count": 91,
   "metadata": {},
   "outputs": [
    {
     "data": {
      "text/plain": [
       "19"
      ]
     },
     "execution_count": 91,
     "metadata": {},
     "output_type": "execute_result"
    }
   ],
   "source": [
    "len(test_set)"
   ]
  },
  {
   "cell_type": "code",
   "execution_count": 19,
   "metadata": {},
   "outputs": [
    {
     "data": {
      "text/plain": [
       "5"
      ]
     },
     "execution_count": 19,
     "metadata": {},
     "output_type": "execute_result"
    }
   ],
   "source": [
    "len(test_set_covid)"
   ]
  },
  {
   "cell_type": "code",
   "execution_count": 76,
   "metadata": {},
   "outputs": [
    {
     "data": {
      "text/plain": [
       "list"
      ]
     },
     "execution_count": 76,
     "metadata": {},
     "output_type": "execute_result"
    }
   ],
   "source": [
    "type(test_set_covid)"
   ]
  },
  {
   "cell_type": "code",
   "execution_count": 18,
   "metadata": {},
   "outputs": [],
   "source": [
    "source_dic = {}\n",
    "\n",
    "for an_art in test_set:\n",
    "    \n",
    "    source_dic[an_art] = 0 \n",
    "    \n",
    "for an_art in test_set_covid:\n",
    "    \n",
    "    source_dic[an_art] = 1 \n",
    "    \n",
    "for an_art in test_set_noncovid:\n",
    "    \n",
    "    source_dic[an_art] = 2 "
   ]
  },
  {
   "cell_type": "code",
   "execution_count": 69,
   "metadata": {},
   "outputs": [],
   "source": [
    "article_dic_covid = pickle.load(open(data_pickles + 'article_dic_covid.p', \"rb\" ))\n",
    "article_dic_noncovid = pickle.load(open(data_pickles + 'article_dic_noncovid.p', \"rb\" ))\n",
    "article_dic = pickle.load(open(data_pickles + 'article_dic.p', \"rb\" ))\n",
    "\n",
    "all_dic = {}\n",
    "all_dic.update(article_dic)\n",
    "all_dic.update(article_dic_covid)\n",
    "all_dic.update(article_dic_noncovid)"
   ]
  },
  {
   "cell_type": "code",
   "execution_count": 42,
   "metadata": {},
   "outputs": [
    {
     "name": "stdout",
     "output_type": "stream",
     "text": [
      "('FM', 4.2, 'Jun 15', 3)\n",
      "('FM', 2.0, 'Jun 1', 3)\n",
      "('T', 5.6, 'Jun 15', 2)\n",
      "('T', 6.5, 'May 28', 4)\n",
      "('T', 4.5, 'Jun 3', 4)\n"
     ]
    }
   ],
   "source": [
    "for an_art in test_set_covid:\n",
    "    \n",
    "    print(article_dic_covid[an_art])"
   ]
  },
  {
   "cell_type": "markdown",
   "metadata": {},
   "source": [
    "## Missing articles"
   ]
  },
  {
   "cell_type": "code",
   "execution_count": 111,
   "metadata": {},
   "outputs": [
    {
     "data": {
      "text/plain": [
       "132"
      ]
     },
     "execution_count": 111,
     "metadata": {},
     "output_type": "execute_result"
    }
   ],
   "source": [
    "all_arts_set = list(test_data_large.article_num.unique()) + list(train_data_large.article_num.unique()) + list(val_data_large.article_num.unique())\n",
    "len(all_arts_set)"
   ]
  },
  {
   "cell_type": "code",
   "execution_count": 95,
   "metadata": {},
   "outputs": [],
   "source": [
    "org_test = pickle.load(open(data_pickles + \"test_set.p\", \"rb\"))\n",
    "org_val = pickle.load(open(data_pickles + \"val_set.p\", \"rb\"))\n",
    "org_train = pickle.load(open(data_pickles + \"train_set.p\", \"rb\"))\n",
    "org_test_non = pickle.load(open(data_pickles + \"test_set_noncovid.p\", \"rb\"))\n",
    "org_val_non = pickle.load(open(data_pickles + \"val_set_noncovid.p\", \"rb\"))\n",
    "org_train_non = pickle.load(open(data_pickles + \"train_set_noncovid.p\", \"rb\"))\n",
    "org_test_cov = pickle.load(open(data_pickles + \"test_set_covid.p\", \"rb\"))\n",
    "org_val_cov = pickle.load(open(data_pickles + \"val_set_covid.p\", \"rb\"))\n",
    "org_train_cov = pickle.load(open(data_pickles + \"train_set_covid.p\", \"rb\"))\n",
    "\n",
    "all_sets_list = [org_test, org_val, org_train, org_test_non, org_val_non, org_train_non, org_test_cov, org_val_cov, org_train_cov]"
   ]
  },
  {
   "cell_type": "code",
   "execution_count": 98,
   "metadata": {},
   "outputs": [
    {
     "name": "stdout",
     "output_type": "stream",
     "text": [
      "135\n"
     ]
    }
   ],
   "source": [
    "full_size = 0\n",
    "combine_list = []\n",
    "for a_set in all_sets_list:\n",
    "    \n",
    "    full_size += len(a_set)\n",
    "    combine_list = combine_list + a_set\n",
    "    \n",
    "print(full_size)"
   ]
  },
  {
   "cell_type": "code",
   "execution_count": 100,
   "metadata": {},
   "outputs": [
    {
     "name": "stdout",
     "output_type": "stream",
     "text": [
      "201\n",
      "228\n",
      "208\n"
     ]
    }
   ],
   "source": [
    "for a_set in combine_list:\n",
    "    \n",
    "    if a_set not in all_arts_set:\n",
    "        \n",
    "        print(a_set)"
   ]
  },
  {
   "cell_type": "code",
   "execution_count": 101,
   "metadata": {},
   "outputs": [
    {
     "data": {
      "text/plain": [
       "('FM', 2.67, 'May 28', 2)"
      ]
     },
     "execution_count": 101,
     "metadata": {},
     "output_type": "execute_result"
    }
   ],
   "source": [
    "article_dic_covid[201]"
   ]
  },
  {
   "cell_type": "code",
   "execution_count": 102,
   "metadata": {},
   "outputs": [
    {
     "data": {
      "text/plain": [
       "('T', 6.0, 'Jun 1', 4)"
      ]
     },
     "execution_count": 102,
     "metadata": {},
     "output_type": "execute_result"
    }
   ],
   "source": [
    "article_dic_covid[208]"
   ]
  },
  {
   "cell_type": "code",
   "execution_count": 103,
   "metadata": {},
   "outputs": [
    {
     "data": {
      "text/plain": [
       "('T', 5.6, 'Jun 15', 4)"
      ]
     },
     "execution_count": 103,
     "metadata": {},
     "output_type": "execute_result"
    }
   ],
   "source": [
    "article_dic_covid[228]"
   ]
  },
  {
   "cell_type": "code",
   "execution_count": 106,
   "metadata": {},
   "outputs": [
    {
     "data": {
      "text/plain": [
       "True"
      ]
     },
     "execution_count": 106,
     "metadata": {},
     "output_type": "execute_result"
    }
   ],
   "source": [
    "201 in org_val_cov"
   ]
  },
  {
   "cell_type": "code",
   "execution_count": 107,
   "metadata": {},
   "outputs": [
    {
     "data": {
      "text/plain": [
       "True"
      ]
     },
     "execution_count": 107,
     "metadata": {},
     "output_type": "execute_result"
    }
   ],
   "source": [
    "208 in org_val_cov"
   ]
  },
  {
   "cell_type": "code",
   "execution_count": 109,
   "metadata": {},
   "outputs": [
    {
     "data": {
      "text/plain": [
       "True"
      ]
     },
     "execution_count": 109,
     "metadata": {},
     "output_type": "execute_result"
    }
   ],
   "source": [
    "228 in org_val_cov"
   ]
  },
  {
   "cell_type": "code",
   "execution_count": 113,
   "metadata": {},
   "outputs": [
    {
     "data": {
      "text/plain": [
       "[201, 228, 208]"
      ]
     },
     "execution_count": 113,
     "metadata": {},
     "output_type": "execute_result"
    }
   ],
   "source": [
    "org_val_cov"
   ]
  },
  {
   "cell_type": "code",
   "execution_count": 112,
   "metadata": {},
   "outputs": [
    {
     "data": {
      "text/plain": [
       "array([201, 228, 208])"
      ]
     },
     "execution_count": 112,
     "metadata": {},
     "output_type": "execute_result"
    }
   ],
   "source": [
    "val_data_covid.article_num.unique()"
   ]
  },
  {
   "cell_type": "code",
   "execution_count": null,
   "metadata": {},
   "outputs": [],
   "source": []
  },
  {
   "cell_type": "code",
   "execution_count": null,
   "metadata": {},
   "outputs": [],
   "source": []
  },
  {
   "cell_type": "markdown",
   "metadata": {},
   "source": [
    "## Info on overall ratings"
   ]
  },
  {
   "cell_type": "code",
   "execution_count": 116,
   "metadata": {},
   "outputs": [],
   "source": [
    "all_arts_set = list(test_data_large.article_num.unique()) + list(train_data_large.article_num.unique()) + list(val_data_large.article_num.unique())"
   ]
  },
  {
   "cell_type": "code",
   "execution_count": 117,
   "metadata": {},
   "outputs": [],
   "source": [
    "type_list = []\n",
    "\n",
    "for a_key in all_dic.keys():\n",
    "    \n",
    "    if a_key in all_arts_set:\n",
    "        \n",
    "        type_list.append(all_dic[a_key][0])"
   ]
  },
  {
   "cell_type": "code",
   "execution_count": 118,
   "metadata": {},
   "outputs": [
    {
     "data": {
      "text/plain": [
       "Counter({'FM': 52, 'T': 62, 'No Mode!': 16, 'CND': 5})"
      ]
     },
     "execution_count": 118,
     "metadata": {},
     "output_type": "execute_result"
    }
   ],
   "source": [
    "rate_dist = Counter(type_list)\n",
    "rate_dist"
   ]
  },
  {
   "cell_type": "code",
   "execution_count": 85,
   "metadata": {},
   "outputs": [
    {
     "data": {
      "text/plain": [
       "19"
      ]
     },
     "execution_count": 85,
     "metadata": {},
     "output_type": "execute_result"
    }
   ],
   "source": [
    "len(test_set)"
   ]
  },
  {
   "cell_type": "markdown",
   "metadata": {},
   "source": [
    "### NN with 25"
   ]
  },
  {
   "cell_type": "code",
   "execution_count": 22,
   "metadata": {},
   "outputs": [],
   "source": [
    "X_test_large = feature_creation(test_data_large, crowd_num = 25)\n",
    "X_train_large = feature_creation(train_data_large, crowd_num = 25)"
   ]
  },
  {
   "cell_type": "code",
   "execution_count": 23,
   "metadata": {},
   "outputs": [],
   "source": [
    "numeric_features_large = []\n",
    "\n",
    "resp_var = [x for x in X_test_large.columns if 'resp_veracity_' in x]\n",
    "new_cols = [x for x in X_test_large.columns if 'new' in x]\n",
    "\n",
    "#numeric_features.extend(resp_var)\n",
    "numeric_features_large.extend(resp_var) #rempve this if it doesn't work\n",
    "numeric_features_large.extend(new_cols)\n",
    "numeric_features_large.extend([\"crowd_means\",'crowd_median','crowd_full_range', 'crowd_IQR_range', \\\n",
    "                         'crowd_variance', 'crowd_bayes'])"
   ]
  },
  {
   "cell_type": "code",
   "execution_count": 25,
   "metadata": {},
   "outputs": [],
   "source": [
    "#nn = pickle.load(open(local_pickles + 'model.p', \"rb\" ))\n",
    "\n",
    "\n",
    "\n",
    "class Net(nn.Module):\n",
    "\n",
    "    def __init__(self, emb_dim):\n",
    "        super(Net, self).__init__()\n",
    "        self.fc1 = nn.Linear(emb_dim, 500) \n",
    "        self.fc2 = nn.Linear(500, 100)\n",
    "        self.fc3 = nn.Linear(100, 25)\n",
    "        self.fc4 = nn.Linear(25, 25)\n",
    "        self.fc5 = nn.Linear(25, 10)\n",
    "        self.fc6 = nn.Linear(10, 1)\n",
    "        self.softmax = nn.Softmax(dim=1)\n",
    "\n",
    "    def forward(self, x):\n",
    "        x = F.relu(self.fc1(x))\n",
    "        x = F.relu(self.fc2(x))\n",
    "        x = F.relu(self.fc3(x))\n",
    "        x = F.relu(self.fc4(x))\n",
    "        x = F.relu(self.fc5(x))\n",
    "        x = self.fc6(x)\n",
    "        \n",
    "        return x\n",
    "    \n",
    "    \n",
    "class Net_dropout(nn.Module):\n",
    "\n",
    "    def __init__(self, emb_dim):\n",
    "        super(Net_dropout, self).__init__()\n",
    "        self.fc1 = nn.Linear(emb_dim, 500) \n",
    "        self.fc2 = nn.Linear(500, 100)\n",
    "        self.fc3 = nn.Linear(100, 25)\n",
    "        self.fc4 = nn.Linear(25, 25)\n",
    "        self.fc5 = nn.Linear(25, 10)\n",
    "        self.fc6 = nn.Linear(10, 1)\n",
    "        self.softmax = nn.Softmax(dim=1)\n",
    "        self.dropout = nn.Dropout(0.25)\n",
    "\n",
    "    def forward(self, x):\n",
    "        x = F.relu(self.fc1(x))\n",
    "        x = self.dropout(x)\n",
    "        x = F.relu(self.fc2(x))\n",
    "        x = self.dropout(x)     \n",
    "        x = F.relu(self.fc3(x))    \n",
    "        x = self.dropout(x)   \n",
    "        x = F.relu(self.fc4(x))\n",
    "        x = F.relu(self.fc5(x))\n",
    "        x = self.fc6(x)\n",
    "        \n",
    "        return x\n",
    "    \n",
    "\n"
   ]
  },
  {
   "cell_type": "code",
   "execution_count": 58,
   "metadata": {},
   "outputs": [],
   "source": [
    "\n",
    "emb_dim = 121   \n",
    "net_large = Net(emb_dim)\n",
    "net_large.load_state_dict(torch.load(models + \"model_large.pt\"))\n",
    "net_large.eval()\n",
    "\n",
    "nn_list_large = [\"nn_25\"]\n",
    "\n",
    "# Preparing the data\n",
    "y_data_bin_large = np.where(test_target_large == True, 1, 0)\n",
    "\n",
    "\n",
    "test = StandardScaler()\n",
    "test.fit(X_train_large[numeric_features_large])\n",
    "\n",
    "#training data\n",
    "X_train_stand_large = X_test_large.copy()\n",
    "X_train_stand_large[numeric_features_large] = test.transform(X_test_large[numeric_features_large])\n",
    "\n",
    "train_dat_nn_large = data_prep(X_train_stand_large,test_target_large)\n",
    "\n",
    "nn_preds  = torch.sigmoid(net_large(torch.tensor(train_dat_nn_large[:][0]).float()))\n",
    "nn_preds = np.where(nn_preds > .5, 1,0).reshape(-1,)\n",
    "\n",
    "all_results = list(conf_eval(nn_preds, test_target_large))\n",
    "\n",
    "nn_list_large.extend(all_results)\n",
    "\n",
    "#performance_dic['nn_25'] = nn_list_large\n",
    "\n"
   ]
  },
  {
   "cell_type": "code",
   "execution_count": 59,
   "metadata": {},
   "outputs": [
    {
     "data": {
      "text/plain": [
       "[0.846,\n",
       " 0.6983511154219205,\n",
       " 0.30164888457807953,\n",
       " 0.9496255956432947,\n",
       " 0.05037440435670524]"
      ]
     },
     "execution_count": 59,
     "metadata": {},
     "output_type": "execute_result"
    }
   ],
   "source": [
    "#performance on covid set\n",
    "list(conf_eval(nn_preds[test_data_large.article_num.isin(test_set_covid)], test_target_large[test_data_large.article_num.isin(test_set_covid)]))"
   ]
  },
  {
   "cell_type": "code",
   "execution_count": 60,
   "metadata": {},
   "outputs": [
    {
     "data": {
      "text/plain": [
       "[0.6594782608695652,\n",
       " 0.42995169082125606,\n",
       " 0.5700483091787439,\n",
       " 0.8340477648499693,\n",
       " 0.16595223515003063]"
      ]
     },
     "execution_count": 60,
     "metadata": {},
     "output_type": "execute_result"
    }
   ],
   "source": [
    "#performance on noncovid set\n",
    "list(conf_eval(nn_preds[test_data_large.article_num.isin(test_set_non_covid_all)], test_target_large[test_data_large.article_num.isin(test_set_non_covid_all)]))"
   ]
  },
  {
   "cell_type": "code",
   "execution_count": 61,
   "metadata": {},
   "outputs": [
    {
     "data": {
      "text/plain": [
       "[0.6968421052631579,\n",
       " 0.520896273917422,\n",
       " 0.47910372608257806,\n",
       " 0.8232633863965267,\n",
       " 0.17673661360347323]"
      ]
     },
     "execution_count": 61,
     "metadata": {},
     "output_type": "execute_result"
    }
   ],
   "source": [
    "#performance on period one\n",
    "list(conf_eval(nn_preds[test_data_large.article_num.isin(test_set)], test_target_large[test_data_large.article_num.isin(test_set)]))"
   ]
  },
  {
   "cell_type": "code",
   "execution_count": 62,
   "metadata": {},
   "outputs": [
    {
     "data": {
      "text/plain": [
       "[0.6842222222222222,\n",
       " 0.3882585101134682,\n",
       " 0.6117414898865319,\n",
       " 0.9268095430651031,\n",
       " 0.07319045693489688]"
      ]
     },
     "execution_count": 62,
     "metadata": {},
     "output_type": "execute_result"
    }
   ],
   "source": [
    "#performance on covid set\n",
    "list(conf_eval(nn_preds[test_data_large.article_num.isin(test_set_two)], test_target_large[test_data_large.article_num.isin(test_set_two)]))"
   ]
  },
  {
   "cell_type": "markdown",
   "metadata": {},
   "source": [
    "## NN with high PK "
   ]
  },
  {
   "cell_type": "code",
   "execution_count": 48,
   "metadata": {},
   "outputs": [],
   "source": [
    "numeric_features = []\n",
    "\n",
    "resp_var = [x for x in X_train.columns if 'resp_veracity_' in x]\n",
    "new_cols = [x for x in X_train.columns if 'new' in x]\n",
    "\n",
    "#numeric_features.extend(resp_var)\n",
    "numeric_features.extend(resp_var) #rempve this if it doesn't work\n",
    "numeric_features.extend(new_cols)\n",
    "numeric_features.extend([\"crowd_means\",'crowd_median','crowd_full_range', 'crowd_IQR_range', \\\n",
    "                         'crowd_variance', 'crowd_bayes'])\n"
   ]
  },
  {
   "cell_type": "code",
   "execution_count": 45,
   "metadata": {},
   "outputs": [],
   "source": [
    "pol_knowledge_df_test = pickle.load(open(data_pickles + 'pol_knowledge_df_test.p', \"rb\" ))\n",
    "X_data_pol_test = feature_creation(pol_knowledge_df_test)"
   ]
  },
  {
   "cell_type": "code",
   "execution_count": 46,
   "metadata": {},
   "outputs": [],
   "source": [
    "pol_knowledge_df_train_orig = pickle.load(open(data_pickles + 'pol_knowledge_df_train_orig.p', \"rb\" ))\n",
    "# Preparing the data\n",
    "X_data_pol_train = feature_creation(pol_knowledge_df_train_orig)"
   ]
  },
  {
   "cell_type": "code",
   "execution_count": 52,
   "metadata": {},
   "outputs": [],
   "source": [
    "\n",
    "emb_dim = 61 \n",
    "net_large = Net(emb_dim)\n",
    "net_large.load_state_dict(torch.load(models + \"model_nn_highpol.pt\"))\n",
    "net_large.eval()\n",
    "\n",
    "nn_list_large = [\"nn_10_highpol\"]\n",
    "\n",
    "# Preparing the data\n",
    "y_data_bin_large = np.where(test_target_large == True, 1, 0)\n",
    "\n",
    "\n",
    "test = StandardScaler()\n",
    "test.fit(X_data_pol_train[numeric_features])\n",
    "\n",
    "#training data\n",
    "X_test_stand_large = X_data_pol_test.copy()\n",
    "X_test_stand_large[numeric_features] = test.transform(X_data_pol_test[numeric_features])\n",
    "\n",
    "\n",
    "test_dat_nn_large = data_prep(X_test_stand_large,y_data_bin_large)\n",
    "\n",
    "\n",
    "nn_preds  = torch.sigmoid(net_large(torch.tensor(test_dat_nn_large[:][0]).float()))\n",
    "nn_preds_high_pk  = np.where(nn_preds > .5, 1,0).reshape(-1,)\n",
    "\n",
    "\n",
    "all_results = list(conf_eval(nn_preds_high_pk, test_target_large))\n",
    "\n",
    "#performance_dic['nn_10_highpol'] = nn_list_large\n"
   ]
  },
  {
   "cell_type": "code",
   "execution_count": 53,
   "metadata": {},
   "outputs": [
    {
     "data": {
      "text/plain": [
       "[0.7792,\n",
       " 0.6711930164888458,\n",
       " 0.3288069835111542,\n",
       " 0.85500340367597,\n",
       " 0.14499659632402995]"
      ]
     },
     "execution_count": 53,
     "metadata": {},
     "output_type": "execute_result"
    }
   ],
   "source": [
    "#performance on covid set\n",
    "list(conf_eval(nn_preds_high_pk[test_data_large.article_num.isin(test_set_covid)], test_target_large[test_data_large.article_num.isin(test_set_covid)]))"
   ]
  },
  {
   "cell_type": "code",
   "execution_count": 54,
   "metadata": {},
   "outputs": [
    {
     "data": {
      "text/plain": [
       "[0.656695652173913,\n",
       " 0.447463768115942,\n",
       " 0.552536231884058,\n",
       " 0.8158297611757501,\n",
       " 0.18417023882424985]"
      ]
     },
     "execution_count": 54,
     "metadata": {},
     "output_type": "execute_result"
    }
   ],
   "source": [
    "#performance on noncovid set\n",
    "list(conf_eval(nn_preds_high_pk[test_data_large.article_num.isin(test_set_non_covid_all)], test_target_large[test_data_large.article_num.isin(test_set_non_covid_all)]))"
   ]
  },
  {
   "cell_type": "code",
   "execution_count": 63,
   "metadata": {},
   "outputs": [
    {
     "data": {
      "text/plain": [
       "[0.6972631578947368,\n",
       " 0.5289526686807654,\n",
       " 0.47104733131923465,\n",
       " 0.8181982633863966,\n",
       " 0.18180173661360347]"
      ]
     },
     "execution_count": 63,
     "metadata": {},
     "output_type": "execute_result"
    }
   ],
   "source": [
    "#performance on period one\n",
    "list(conf_eval(nn_preds_high_pk[test_data_large.article_num.isin(test_set)], test_target_large[test_data_large.article_num.isin(test_set)]))"
   ]
  },
  {
   "cell_type": "code",
   "execution_count": 64,
   "metadata": {},
   "outputs": [
    {
     "data": {
      "text/plain": [
       "[0.6391111111111111,\n",
       " 0.4015786877158362,\n",
       " 0.5984213122841638,\n",
       " 0.8338050950262839,\n",
       " 0.16619490497371614]"
      ]
     },
     "execution_count": 64,
     "metadata": {},
     "output_type": "execute_result"
    }
   ],
   "source": [
    "#performance on period two \n",
    "list(conf_eval(nn_preds_high_pk[test_data_large.article_num.isin(test_set_two)], test_target_large[test_data_large.article_num.isin(test_set_two)]))"
   ]
  },
  {
   "cell_type": "markdown",
   "metadata": {},
   "source": [
    "### Percentage high PK"
   ]
  },
  {
   "cell_type": "code",
   "execution_count": 129,
   "metadata": {},
   "outputs": [],
   "source": [
    "control_data = pd.read_csv(source_data + \"full_survey_control_clean.csv\", index_col = 0, low_memory=False)\n",
    "control_data['pol_knowledge'] = control_data['Q_PK_1'].isin([\"Democratic Party\"])*1 + control_data['Q_PK_3'].isin([\"Nancy Pelosi\"])*1 + control_data['Q_PK_6'].isin([\"Prime Minister of the United Kingdom\"])*1 + control_data['Q_PK_7'].isin([\"Michael Pompeo\"])*1\n",
    "\n",
    "\n",
    "control_data_noncovid = pd.read_csv(source_data + \"full_survey_noncovid_control_clean.csv\", index_col = 0, low_memory=False)\n",
    "control_data_noncovid['pol_knowledge'] = control_data_noncovid['Q_PK_1'].isin([\"Democratic Party\"])*1 + control_data_noncovid['Q_PK_3'].isin([\"Nancy Pelosi\"])*1 + control_data_noncovid['Q_PK_6'].isin([\"Prime Minister of the United Kingdom\"])*1 + control_data_noncovid['Q_PK_7'].isin([\"Michael Pompeo\"])*1\n",
    "\n",
    "\n",
    "control_data_covid = pd.read_csv(source_data + \"full_survey_covid_control_clean.csv\", index_col = 0, low_memory=False)\n",
    "control_data_covid['pol_knowledge'] = control_data_covid['Q_PK_1'].isin([\"Democratic Party\"])*1 + control_data_covid['Q_PK_3'].isin([\"Nancy Pelosi\"])*1 + control_data_covid['Q_PK_6'].isin([\"Prime Minister of the United Kingdom\"])*1 + control_data_covid['Q_PK_7'].isin([\"Michael Pompeo\"])*1\n",
    "\n",
    "\n"
   ]
  },
  {
   "cell_type": "code",
   "execution_count": 144,
   "metadata": {},
   "outputs": [
    {
     "data": {
      "text/plain": [
       "0.507315034136826"
      ]
     },
     "execution_count": 144,
     "metadata": {},
     "output_type": "execute_result"
    }
   ],
   "source": [
    "#percentage all respondents with high political knowledge\n",
    "((control_data['pol_knowledge'] == 4).sum() + (control_data_noncovid['pol_knowledge'] == 4).sum() + (control_data_covid['pol_knowledge'] == 4).sum())/(control_data.shape[0] + control_data_noncovid.shape[0] + control_data_covid.shape[0])"
   ]
  },
  {
   "cell_type": "markdown",
   "metadata": {},
   "source": [
    "### Percentage high CRT"
   ]
  },
  {
   "cell_type": "code",
   "execution_count": 145,
   "metadata": {},
   "outputs": [],
   "source": [
    "control_data['tot_crt'] = control_data['Q_1st_CRT'].str.contains(\"2\", regex = False, case = False)*1 + control_data['Q_2nd_CRT'].isin([\"7\"])*1 + control_data['Q_3rd_CRT'].str.contains(\"emily\", regex = False, case = False)*1 + control_data['Q_4th_CRT'].str.contains(\"0|no dirt|zero|none|nothing\", regex = True, case = False)*1"
   ]
  },
  {
   "cell_type": "code",
   "execution_count": 148,
   "metadata": {},
   "outputs": [
    {
     "data": {
      "text/plain": [
       "1    0.446767\n",
       "2    0.335174\n",
       "0    0.125000\n",
       "3    0.089117\n",
       "4    0.003352\n",
       "Name: tot_crt, dtype: float64"
      ]
     },
     "execution_count": 148,
     "metadata": {},
     "output_type": "execute_result"
    }
   ],
   "source": [
    "control_data['tot_crt'].value_counts()/control_data.shape[0]"
   ]
  },
  {
   "cell_type": "code",
   "execution_count": null,
   "metadata": {},
   "outputs": [],
   "source": []
  },
  {
   "cell_type": "code",
   "execution_count": null,
   "metadata": {},
   "outputs": [],
   "source": []
  },
  {
   "cell_type": "code",
   "execution_count": null,
   "metadata": {},
   "outputs": [],
   "source": []
  },
  {
   "cell_type": "code",
   "execution_count": null,
   "metadata": {},
   "outputs": [],
   "source": []
  },
  {
   "cell_type": "code",
   "execution_count": null,
   "metadata": {},
   "outputs": [],
   "source": []
  },
  {
   "cell_type": "code",
   "execution_count": null,
   "metadata": {},
   "outputs": [],
   "source": []
  },
  {
   "cell_type": "code",
   "execution_count": null,
   "metadata": {},
   "outputs": [],
   "source": []
  }
 ],
 "metadata": {
  "kernelspec": {
   "display_name": "Python 3",
   "language": "python",
   "name": "python3"
  },
  "language_info": {
   "codemirror_mode": {
    "name": "ipython",
    "version": 3
   },
   "file_extension": ".py",
   "mimetype": "text/x-python",
   "name": "python",
   "nbconvert_exporter": "python",
   "pygments_lexer": "ipython3",
   "version": "3.7.3"
  }
 },
 "nbformat": 4,
 "nbformat_minor": 4
}
